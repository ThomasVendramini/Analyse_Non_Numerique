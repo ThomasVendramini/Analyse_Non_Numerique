{
 "cells": [
  {
   "cell_type": "markdown",
   "metadata": {},
   "source": [
    "# Pandas Tricks\n",
    "\n",
    "*Rappel et/ou découverte de manipulation de matrices de données avec pandas*"
   ]
  },
  {
   "cell_type": "markdown",
   "metadata": {},
   "source": [
    "### Lire un tableur\n",
    "\n"
   ]
  },
  {
   "cell_type": "code",
   "execution_count": 24,
   "metadata": {},
   "outputs": [
    {
     "data": {
      "text/html": [
       "<div>\n",
       "<style scoped>\n",
       "    .dataframe tbody tr th:only-of-type {\n",
       "        vertical-align: middle;\n",
       "    }\n",
       "\n",
       "    .dataframe tbody tr th {\n",
       "        vertical-align: top;\n",
       "    }\n",
       "\n",
       "    .dataframe thead th {\n",
       "        text-align: right;\n",
       "    }\n",
       "</style>\n",
       "<table border=\"1\" class=\"dataframe\">\n",
       "  <thead>\n",
       "    <tr style=\"text-align: right;\">\n",
       "      <th></th>\n",
       "      <th>nbSyll</th>\n",
       "      <th>pron</th>\n",
       "      <th>origin</th>\n",
       "      <th>warning</th>\n",
       "      <th>remarques</th>\n",
       "      <th>POS</th>\n",
       "      <th>lineId</th>\n",
       "      <th>pageId</th>\n",
       "    </tr>\n",
       "  </thead>\n",
       "  <tbody>\n",
       "    <tr>\n",
       "      <td>13753</td>\n",
       "      <td>1</td>\n",
       "      <td>thătch</td>\n",
       "      <td>NaN</td>\n",
       "      <td>NaN</td>\n",
       "      <td>NaN</td>\n",
       "      <td>n.</td>\n",
       "      <td>70.0</td>\n",
       "      <td>212</td>\n",
       "    </tr>\n",
       "    <tr>\n",
       "      <td>13211</td>\n",
       "      <td>2</td>\n",
       "      <td>ſtūʹpid</td>\n",
       "      <td>L.</td>\n",
       "      <td>NaN</td>\n",
       "      <td>NaN</td>\n",
       "      <td>a.</td>\n",
       "      <td>28.0</td>\n",
       "      <td>205</td>\n",
       "    </tr>\n",
       "    <tr>\n",
       "      <td>1327</td>\n",
       "      <td>4</td>\n",
       "      <td>bĭtūʹmĭn_o_us</td>\n",
       "      <td>L.</td>\n",
       "      <td>NaN</td>\n",
       "      <td>NaN</td>\n",
       "      <td>a.</td>\n",
       "      <td>72.0</td>\n",
       "      <td>37</td>\n",
       "    </tr>\n",
       "    <tr>\n",
       "      <td>14382</td>\n",
       "      <td>5</td>\n",
       "      <td>văʹrĭĕgāted</td>\n",
       "      <td>L.</td>\n",
       "      <td>NaN</td>\n",
       "      <td>NaN</td>\n",
       "      <td>a.</td>\n",
       "      <td>53.0</td>\n",
       "      <td>221</td>\n",
       "    </tr>\n",
       "    <tr>\n",
       "      <td>7123</td>\n",
       "      <td>5</td>\n",
       "      <td>insĕʹpărable</td>\n",
       "      <td>L.</td>\n",
       "      <td>NaN</td>\n",
       "      <td>NaN</td>\n",
       "      <td>a.</td>\n",
       "      <td>29.0</td>\n",
       "      <td>120</td>\n",
       "    </tr>\n",
       "  </tbody>\n",
       "</table>\n",
       "</div>"
      ],
      "text/plain": [
       "       nbSyll           pron origin warning remarques POS  lineId  pageId\n",
       "13753       1         thătch    NaN     NaN       NaN  n.    70.0     212\n",
       "13211       2        ſtūʹpid     L.     NaN       NaN  a.    28.0     205\n",
       "1327        4  bĭtūʹmĭn_o_us     L.     NaN       NaN  a.    72.0      37\n",
       "14382       5    văʹrĭĕgāted     L.     NaN       NaN  a.    53.0     221\n",
       "7123        5   insĕʹpărable     L.     NaN       NaN  a.    29.0     120"
      ]
     },
     "execution_count": 24,
     "metadata": {},
     "output_type": "execute_result"
    }
   ],
   "source": [
    "import pandas as pd\n",
    "\n",
    "# préciser le chemin du fichier à lire\n",
    "cheminDuFichierCSV = \"./../data/dictionary/1757_Buchanan-J.csv\" \n",
    "\n",
    "# demander à pandas de lire le fichier et garder ce tableau accessible dans une variable\n",
    "dfDicoBuch = pd.read_csv(cheminDuFichierCSV, delimiter=\";\", encoding=\"utf8\")\n",
    "\n",
    "# afficher à l'écran un échantillon du tableau\n",
    "dfDicoBuch.sample(n=5)"
   ]
  },
  {
   "cell_type": "markdown",
   "metadata": {},
   "source": [
    "Pour lires des tableurs aux format xls, xlsx ou odt il faut utiliser pd.read_excel(cheminDuFichier) et je conseil de bien préciser explicitement l'engine à utiliser en paramètre.\n",
    "* dfXlsx = pd.read_excel(cheminDuFichierXLSX, engine=\"openpyxl\")\n",
    "* dfOds = pd.read_excel(cheminDuFichierODS, engine=\"odf\")"
   ]
  },
  {
   "cell_type": "markdown",
   "metadata": {},
   "source": [
    "### Ajouter un nouvelle colonne contenant le resultat d'un traitement"
   ]
  },
  {
   "cell_type": "code",
   "execution_count": 25,
   "metadata": {},
   "outputs": [],
   "source": [
    "# définir une fonction qui retourne quelque chose\n",
    "def sizePron(strPron):\n",
    "    #retourner le nombre de caractère de la prononciation\n",
    "    \n",
    "    return len(strPron)\n",
    "\n"
   ]
  },
  {
   "cell_type": "code",
   "execution_count": 26,
   "metadata": {},
   "outputs": [
    {
     "data": {
      "text/html": [
       "<div>\n",
       "<style scoped>\n",
       "    .dataframe tbody tr th:only-of-type {\n",
       "        vertical-align: middle;\n",
       "    }\n",
       "\n",
       "    .dataframe tbody tr th {\n",
       "        vertical-align: top;\n",
       "    }\n",
       "\n",
       "    .dataframe thead th {\n",
       "        text-align: right;\n",
       "    }\n",
       "</style>\n",
       "<table border=\"1\" class=\"dataframe\">\n",
       "  <thead>\n",
       "    <tr style=\"text-align: right;\">\n",
       "      <th></th>\n",
       "      <th>nbSyll</th>\n",
       "      <th>pron</th>\n",
       "      <th>origin</th>\n",
       "      <th>warning</th>\n",
       "      <th>remarques</th>\n",
       "      <th>POS</th>\n",
       "      <th>lineId</th>\n",
       "      <th>pageId</th>\n",
       "      <th>sizePron</th>\n",
       "    </tr>\n",
       "  </thead>\n",
       "  <tbody>\n",
       "    <tr>\n",
       "      <td>913</td>\n",
       "      <td>4</td>\n",
       "      <td>auʹdĭtory</td>\n",
       "      <td>NaN</td>\n",
       "      <td>NaN</td>\n",
       "      <td>NaN</td>\n",
       "      <td>n.</td>\n",
       "      <td>15.0</td>\n",
       "      <td>32</td>\n",
       "      <td>9</td>\n",
       "    </tr>\n",
       "    <tr>\n",
       "      <td>1223</td>\n",
       "      <td>2</td>\n",
       "      <td>benŭʹm_b_</td>\n",
       "      <td>NaN</td>\n",
       "      <td>NaN</td>\n",
       "      <td>NaN</td>\n",
       "      <td>v.</td>\n",
       "      <td>40.0</td>\n",
       "      <td>36</td>\n",
       "      <td>9</td>\n",
       "    </tr>\n",
       "    <tr>\n",
       "      <td>15270</td>\n",
       "      <td>3</td>\n",
       "      <td>vŏʹlŭme</td>\n",
       "      <td>NaN</td>\n",
       "      <td>NaN</td>\n",
       "      <td>NaN</td>\n",
       "      <td>n.</td>\n",
       "      <td>8.0</td>\n",
       "      <td>234</td>\n",
       "      <td>7</td>\n",
       "    </tr>\n",
       "    <tr>\n",
       "      <td>1413</td>\n",
       "      <td>2</td>\n",
       "      <td>bŏʹltſprit</td>\n",
       "      <td>NaN</td>\n",
       "      <td>NaN</td>\n",
       "      <td>NaN</td>\n",
       "      <td>n.</td>\n",
       "      <td>14.0</td>\n",
       "      <td>39</td>\n",
       "      <td>10</td>\n",
       "    </tr>\n",
       "    <tr>\n",
       "      <td>1651</td>\n",
       "      <td>2</td>\n",
       "      <td>bŭʹrden</td>\n",
       "      <td>NaN</td>\n",
       "      <td>NaN</td>\n",
       "      <td>NaN</td>\n",
       "      <td>n.</td>\n",
       "      <td>34.0</td>\n",
       "      <td>42</td>\n",
       "      <td>7</td>\n",
       "    </tr>\n",
       "  </tbody>\n",
       "</table>\n",
       "</div>"
      ],
      "text/plain": [
       "       nbSyll        pron origin warning remarques POS  lineId  pageId  \\\n",
       "913         4   auʹdĭtory    NaN     NaN       NaN  n.    15.0      32   \n",
       "1223        2   benŭʹm_b_    NaN     NaN       NaN  v.    40.0      36   \n",
       "15270       3     vŏʹlŭme    NaN     NaN       NaN  n.     8.0     234   \n",
       "1413        2  bŏʹltſprit    NaN     NaN       NaN  n.    14.0      39   \n",
       "1651        2     bŭʹrden    NaN     NaN       NaN  n.    34.0      42   \n",
       "\n",
       "       sizePron  \n",
       "913           9  \n",
       "1223          9  \n",
       "15270         7  \n",
       "1413         10  \n",
       "1651          7  "
      ]
     },
     "execution_count": 26,
     "metadata": {},
     "output_type": "execute_result"
    }
   ],
   "source": [
    "# appeler cette fonction sur toutes les lignes de la matrice pour remplir une nouvelle colonne grace à apply\n",
    "dfDicoBuch['sizePron'] = dfDicoBuch.apply(lambda x: sizePron(x['pron']),1)\n",
    "\n",
    "dfDicoBuch.sample(n=5)"
   ]
  },
  {
   "cell_type": "markdown",
   "metadata": {},
   "source": [
    "## Un petit calcul"
   ]
  },
  {
   "cell_type": "code",
   "execution_count": 27,
   "metadata": {},
   "outputs": [
    {
     "data": {
      "text/plain": [
       "9.0"
      ]
     },
     "execution_count": 27,
     "metadata": {},
     "output_type": "execute_result"
    }
   ],
   "source": [
    "dfDicoBuch['sizePron'].median()"
   ]
  },
  {
   "cell_type": "markdown",
   "metadata": {},
   "source": [
    "## Une recherche de valeur"
   ]
  },
  {
   "cell_type": "code",
   "execution_count": 28,
   "metadata": {},
   "outputs": [
    {
     "data": {
      "text/html": [
       "<div>\n",
       "<style scoped>\n",
       "    .dataframe tbody tr th:only-of-type {\n",
       "        vertical-align: middle;\n",
       "    }\n",
       "\n",
       "    .dataframe tbody tr th {\n",
       "        vertical-align: top;\n",
       "    }\n",
       "\n",
       "    .dataframe thead th {\n",
       "        text-align: right;\n",
       "    }\n",
       "</style>\n",
       "<table border=\"1\" class=\"dataframe\">\n",
       "  <thead>\n",
       "    <tr style=\"text-align: right;\">\n",
       "      <th></th>\n",
       "      <th>nbSyll</th>\n",
       "      <th>pron</th>\n",
       "      <th>origin</th>\n",
       "      <th>warning</th>\n",
       "      <th>remarques</th>\n",
       "      <th>POS</th>\n",
       "      <th>lineId</th>\n",
       "      <th>pageId</th>\n",
       "      <th>sizePron</th>\n",
       "    </tr>\n",
       "  </thead>\n",
       "  <tbody>\n",
       "    <tr>\n",
       "      <td>2813</td>\n",
       "      <td>3</td>\n",
       "      <td>contrŏʹller or comptrollĕr</td>\n",
       "      <td>NaN</td>\n",
       "      <td>NaN</td>\n",
       "      <td>NaN</td>\n",
       "      <td>n.</td>\n",
       "      <td>49.0</td>\n",
       "      <td>58</td>\n",
       "      <td>26</td>\n",
       "    </tr>\n",
       "    <tr>\n",
       "      <td>7492</td>\n",
       "      <td>3</td>\n",
       "      <td>kaʹlĕnd_a_r or caʹlĕnd_a_r</td>\n",
       "      <td>NaN</td>\n",
       "      <td>NaN</td>\n",
       "      <td>NaN</td>\n",
       "      <td>n.</td>\n",
       "      <td>2.0</td>\n",
       "      <td>125</td>\n",
       "      <td>26</td>\n",
       "    </tr>\n",
       "  </tbody>\n",
       "</table>\n",
       "</div>"
      ],
      "text/plain": [
       "      nbSyll                        pron origin warning remarques POS  lineId  \\\n",
       "2813       3  contrŏʹller or comptrollĕr    NaN     NaN       NaN  n.    49.0   \n",
       "7492       3  kaʹlĕnd_a_r or caʹlĕnd_a_r    NaN     NaN       NaN  n.     2.0   \n",
       "\n",
       "      pageId  sizePron  \n",
       "2813      58        26  \n",
       "7492     125        26  "
      ]
     },
     "execution_count": 28,
     "metadata": {},
     "output_type": "execute_result"
    }
   ],
   "source": [
    "dfDicoBuch[dfDicoBuch['sizePron']==26.0]"
   ]
  },
  {
   "cell_type": "markdown",
   "metadata": {},
   "source": [
    "## Afficher des graphiques\n",
    "Plusieurs librairie possibles :\n",
    "* matplotlib (static, bonne qualité pour publication)\n",
    "* seaborn (interactif, pour le web)\n",
    "* bokeh (interactif, pour le web)\n",
    "* plotly (interactif, pour le web)"
   ]
  },
  {
   "cell_type": "code",
   "execution_count": 29,
   "metadata": {},
   "outputs": [],
   "source": [
    "import seaborn as sns\n",
    "import matplotlib.pyplot as plt"
   ]
  },
  {
   "cell_type": "code",
   "execution_count": 30,
   "metadata": {},
   "outputs": [
    {
     "data": {
      "text/plain": [
       "<matplotlib.axes._subplots.AxesSubplot at 0x209edfad688>"
      ]
     },
     "execution_count": 30,
     "metadata": {},
     "output_type": "execute_result"
    },
    {
     "data": {
      "application/vnd.jupyter.widget-view+json": {
       "model_id": "75a74ff82c6f449b861b7710197bdc79",
       "version_major": 2,
       "version_minor": 0
      },
      "image/png": "[encoded data removed]",
      "text/html": [
       "\n",
       "            <div style=\"display: inline-block;\">\n",
       "                <div class=\"jupyter-widgets widget-label\" style=\"text-align: center;\">\n",
       "                    scatter plot view\n",
       "                </div>\n",
       "                <img src='data:image/png;base64,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' width=640.0/>\n",
       "            </div>\n",
       "        "
      ],
      "text/plain": [
       "Canvas(toolbar=Toolbar(toolitems=[('Home', 'Reset original view', 'home', 'home'), ('Back', 'Back to previous …"
      ]
     },
     "metadata": {},
     "output_type": "display_data"
    }
   ],
   "source": [
    "%matplotlib ipympl\n",
    "\n",
    "plt.figure(\"scatter plot view\")\n",
    "sns.scatterplot(data=dfDicoBuch, x=\"nbSyll\", y=\"sizePron\", hue=\"POS\")"
   ]
  },
  {
   "cell_type": "code",
   "execution_count": 43,
   "metadata": {
    "scrolled": true
   },
   "outputs": [
    {
     "data": {
      "text/plain": [
       "<matplotlib.axes._subplots.AxesSubplot at 0x209eec94f08>"
      ]
     },
     "execution_count": 43,
     "metadata": {},
     "output_type": "execute_result"
    },
    {
     "data": {
      "application/vnd.jupyter.widget-view+json": {
       "model_id": "dc36fae936af453897df8411a5a49331",
       "version_major": 2,
       "version_minor": 0
      },
      "image/png": "[encoded data removed]",
      "text/html": [
       "\n",
       "            <div style=\"display: inline-block;\">\n",
       "                <div class=\"jupyter-widgets widget-label\" style=\"text-align: center;\">\n",
       "                    scatter plot view\n",
       "                </div>\n",
       "                <img src='data:image/png;base64,iVBORw0KGgoAAAANSUhEUgAAAoAAAAHgCAYAAAA10dzkAAAABHNCSVQICAgIfAhkiAAAAAlwSFlzAAAPYQAAD2EBqD+naQAAADh0RVh0U29mdHdhcmUAbWF0cGxvdGxpYiB2ZXJzaW9uMy4xLjEsIGh0dHA6Ly9tYXRwbG90bGliLm9yZy8QZhcZAAAgAElEQVR4nOzdeZRU5Z0+8OfeW1tXd/W+QjdtAw0IDQjIqhARopjEJThxEp2fMvGYxKNoBs1EciYxJibGzLhEc8bjZFEzamImKpqY4IKCoNAg+w7N0t3Q+1pde93l90fTTRddVQ1ya7lVz+ecPse+b9H3W1bVvU+9977vK2iapoGIiIiI0oaY6AKIiIiIKL4YAImIiIjSDAMgERERUZphACQiIiJKMwyARERERGmGAZCIiIgozTAAEhEREaUZBkAiIiKiNMMASERERJRmGACJiIiI0gwDIBEREVGaYQAkIiIiSjMMgERERERphgGQiIiIKM0wABIRERGlGQZAIiIiojTDAEhERESUZhgAiYiIiNIMAyARERFRmmEAJCIiIkozDIBEREREaYYBkIiIiCjNMAASERERpRkGQCIiIqI0wwBIRERElGYYAImIiIjSDAMgERERUZphACQiIiJKMwyARERERGmGAZCIiIgozTAAEhEREaUZBkAiIiKiNMMASERERJRmGACJiIiI0gwDIBEREVGaYQAkIiIiSjMMgERERERphgGQiIiIKM0wABIRERGlGQZAIiIiojTDAEhERESUZhgAiYiIiNIMAyARERFRmmEAJCIiIkozDIBEREREaYYBkIiIiCjNMAASERERpRkGQCIiIqI0wwBIRERElGYYAImIiIjSDAMgERERUZphACQiIiJKMwyARERERGmGAZCIiIgozTAAEhEREaUZBkAiIiKiNGNKdAFGpqoqmpqa4HA4IAhCosshIiKi86BpGvr6+jBq1CiIYnr2hTEAXoSmpiZUVFQkugwiIiL6HBobG1FeXp7oMhKCAfAiOBwOAP1voOzs7ARXQ0REROfD6XSioqJi8DyejhgAL8LAZd/s7GwGQCIiIoNJ59u30vPCNxEREVEaYwAkIiIiSjMMgERERERphvcAxpimaZBlGYqiJLqUpCdJEkwmU1rfk0FERBQPDIAxFAgE0NzcDI/Hk+hSDMNut6OsrAwWiyXRpRAREaUsBsAYUVUVJ06cgCRJGDVqFCwWC3u2otA0DYFAAO3t7Thx4gSqq6vTdnJOIiKiWGMAjJFAIABVVVFRUQG73Z7ocgwhIyMDZrMZ9fX1CAQCsNlsiS6JiIgoJbGLJcbYi3Vh+P+LiIgo9ni2JSIiIkozvARMRBdEVVX4ZBVBWYUoCsgwSTCZ+F2SiMhIeNSmYVasWAFBECAIAsxmM8aOHYsHH3wQbrd78DEvvfQS5syZg8zMTDgcDixatAh/+9vfhv2t559/HtOnT0dmZiZyc3MxY8YMPP744/F8OqQjWVbR4QqgzyfDJ6vwBBR0egLo8wUTXRoREV0ABkAKa9myZWhubsbx48fx6KOP4r//+7/x4IMPAgAefPBBfPvb38Ytt9yC3bt3Y+vWrVi4cCFuvPFG/PrXvx78G7/73e+watUq3Hfffdi9ezc++eQT/Pu//ztcLleinhZdpB5fAFqY7Z6AAl9Ajns9RET0+fASMIVltVpRWloKALj11lvx0UcfYc2aNbjjjjvwxBNP4JlnnsHKlSsHH/+zn/0MPp8Pq1atwo033oiKigr89a9/xS233II777xz8HFTpkyJ+3MhffgCMhQ1crsnoMLG6RuJiAyBPYB0XjIyMhAMBvHHP/4RWVlZ+Pa3vz3sMQ888ACCwSBef/11AEBpaSm2bNmC+vr6eJdLMSBHCX8AoGKEBxARUdJgAKQRbd26Fa+++iqWLFmCI0eOYNy4cWFX6hg1ahRycnJw5MgRAMDDDz+M3NxcXHLJJZg4cSJWrFiBP//5z1BVBgUjGmmch8jDCRGRYfCITWH97W9/Q1ZWFmw2G+bPn49Fixbh2WefHfHfaZo2uOJJWVkZNm/ejL179+K+++5DMBjEHXfcgWXLljEEGpDNYkK0tWxsFh5OiIiMgvcAUliLFy/Gc889B7PZjFGjRsFsNgMAJkyYgE2bNiEQCAzrBWxqaoLT6UR1dXXI9pqaGtTU1OCee+7Bpk2bsHDhQmzYsAGLFy+O2/MhfeTaLejxDB8IYjOJsFt4OCEiMgp+ZaewMjMzMX78eFRWVg6GPwD4+te/DpfLheeff37Yv/mv//ovmM1m3HzzzRH/7uTJkwEgZEoZMg6LSURhlgWZFhOsJhE2k4g8uwU5do7+ICIyEn5lpwsyf/583H///fje976HQCCAm266CcFgEC+//DJ+9atf4emnn0ZFRQUA4O6778aoUaNw9dVXo7y8HM3NzXj00UdRVFSE+fPnJ/iZ0OcliiKybPzuSERkZAyAdMGefvppTJs2Dc899xx++MMfQhAEzJw5E2vWrMH1118/+LilS5fi97//PZ577jl0dnaisLAQ8+fPx7p161BQUJDAZ0BERJTeBE3Tws3rSufB6XQiJycHvb29yM7ODmnz+Xw4ceIEqqqqYLPZElSh8fD/GxERxVq083e64HUcIiIiojTDAEhERESUZlI2AD722GOYPXs2HA4HiouLcdNNN+Hw4cMhj7nqqqsgCELIz9e//vUEVUxEREQUHykbADds2IB77rkHW7Zswfvvvw9ZlnHNNdcMm37krrvuQnNz8+BPuOlNiIiIiFJJyo4CXrt2bcjvL7zwAoqLi7F9+3YsWrRocLvdbkdpaWm8yyMiIiJKmJTtATxXb28vACA/Pz9k+yuvvILCwkJMmTIFDz74IPr6+hJRHhEREVHcpGwP4FCapmHVqlW48sorUVNTM7j9tttuQ1VVFUpLS7Fv3z6sXr0au3fvxvvvvx/27/j9fvj9/sHfnU5nzGsnIiIi0ltaBMB7770Xe/bswaZNm0K233XXXYP/XVNTg+rqalx++eXYsWMHZs6cOezvPPbYY3jkkUdiXi8RERFRLKX8JeCVK1fi7bffxkcffYTy8vKoj505cybMZjOOHj0atn316tXo7e0d/GlsbIxFyUREREQxlbI9gJqmYeXKlXjzzTexfv16VFVVjfhv9u/fj2AwiLKysrDtVqsVVqtV71KJiIiI4iplA+A999yDV199FW+99RYcDgdaWloAADk5OcjIyMCxY8fwyiuv4Etf+hIKCwtx4MABPPDAA5gxYwauuOKKBFdPREREFDspGwCfe+45AP2TPQ/1wgsvYMWKFbBYLFi3bh1+9atfweVyoaKiAl/+8pfx8MMPQ5KkBFQcnqJq2HqiC219PhQ7bJhTlQ9JFBJdFhERERlYygZATdOitldUVGDDhg1xqubzWbuvGY/89QCae32D28pybHj4+slYVhP+MrUerrrqKkybNg02mw2//e1vYbFY8J3vfAc//vGPY7ZPIiIiip+UHwRiVGv3NePul3eEhD8AaOn14e6Xd2DtvuaY7v+ll15CZmYmamtr8ctf/hI/+clPIk6PQ0RERMbCAJiEFFXDI389gHB9mAPbHvnrAShq9F7OizFt2jQ8/PDDqK6uxu23347LL78c69ati9n+iIiIKH4YAJPQ1hNdw3r+htIANPf6sPVEV8xqmDZtWsjvZWVlaGtri9n+iIiIKH5S9h5AI2vrixz+Ps/jPg+z2RzyuyAIUFU1Zvsj49A0DUFFg3rmPluzJHJgEhGRwTAAJqFih03XxxHpRVE1+IJKyO0JsqrAJAqwmZNn9DwREUXHS8BJaE5VPspybIjUpyKgfzTwnKr8eJY16Pbbb8fq1asTsm9KLL+shL03VVY1yAp7iImIjIIBMAlJooCHr58MAMNC4MDvD18/OWGX3RoaGtDcHNtRyJR8ZEVFtHFHQSV2g5KIiEhfvAScpJbVlOG5f5k5bB7A0jjMA7h+/fph29asWRO1nVLfSIPOtbB9g0RElIwYAJPYspoyfHFyKVcCoaQw0ttOiHjTAhERJRsGwCQniQLmjytIdBlEMEkixCiXgc0SAyARkVHwHkAiOm9WkxS2n88kCjBJPJwQERkFewCJ6LxJogC7ReI8gEREBscASEQXRBAEWEwMfERERsZrNkRERERphgGQiIiIKM0wABIRERGlGQZAIiIiojTDAEhERESUZhgAiYiIiNIMp4FJdqoC1H8KuFqBrBKgcgEgSomuioiIiAyMATCZHXgbWPt9wNl0dlv2KGDZ48DkG2K226uuugo1NTUAgJdffhmSJOHuu+/GT3/6UwgC538jIiIyOl4CTlYH3gb+fHto+AMAZ3P/9gNvx3T3L730EkwmE2pra/HMM8/gqaeewm9/+9uY7pOIiIjigz2AyUhV+nv+oIVp1AAIwNqHgElfjtnl4IqKCjz11FMQBAETJ07E3r178dRTT+Guu+6Kyf6IiIgoftgDmIzqPx3e8xdCA5yn+x8XI/PmzQu53Dt//nwcPXoUiqLEbJ9EREQUHwyAycjVqu/jiIiIiIZgAExGWSX6Pu5z2LJly7Dfq6urIUkcgUxERGR0DIDJqHJB/2hfRBpxKwDZo/sfFyONjY1YtWoVDh8+jD/+8Y949tlncf/99wMAVq9ejdtvvz1m+yYiIqLY4iCQZCRK/VO9/Pl29IfAoYNBzoTCZb+I6XyAt99+O7xeL+bMmQNJkrBy5Up861vfAgA0NzejoaEhZvsmIiKi2GIATFaTbwBu+UOEeQB/EdN5AAHAbDbj6aefxnPPPTes7cUXX4zpvomIiCi2GACT2eQb+qd64UogREREpCMGwGQnSkDVwkRXQURERCmEAZCGWb9+faJLICIiohjiKGAiIiKiNMMASERERJRmGACJiIiI0gwDIBEREVGaYQAkIiIiSjMMgERERERphgGQiIiIKM0wABIRERGlGU4EneQUVcGOth1o97SjyF6EmcUzIXEpOCIiIroIDIBJ7IP6D/CLrb9Aq6d1cFuJvQQPzXkISyuXxmSfzz//PH7yk5+gsbERoni2g/iGG25AXl4eXnrppZjsl4iIiOKHl4CT1Af1H2DV+lUh4Q8A2jxtWLV+FT6o/yAm+/3a176Gjo4OfPTRR4Pburu78e677+K2226LyT6JiIgovhgAk5CiKvjF1l9AgzasbWDb41sfh6Iquu87Pz8fy5Ytw6uvvjq47f/+7/+Qn5+PJUuW6L4/IiIiij8GwCS0o23HsJ6/oTRoaPG0YEfbjpjs/7bbbsPrr78Ov98PAHjllVfw9a9/HZLEew+JiIhSAQNgEmr3tOv6uAt1/fXXQ1VVvPPOO2hsbMTGjRvxL//yLzHZFxmPpmkIyCp8QQW+oAJFHd5TTUREyY2DQJJQkb1I18ddqIyMDCxfvhyvvPIK6urqMGHCBMyaNSsm+yJjUVQNvqAScnOCrCowiQJsZvYQExEZBXsAk9DM4pkosZdAgBC2XYCAUnspZhbPjFkNt912G9555x38/ve/D+n927x5MyZNmoTW1siXqCl1nRv+BsiqhqCixr0eIiL6fBgAk5AkSnhozkMAMCwEDvz+/Tnfj+l8gFdffTXy8/Nx+PBh3HrrrYPb3W43Dh8+jGAwGLN9U3KSFTVs+DvbzkvBRERGwQCYpJZWLsWTVz2JYntxyPYSewmevOrJmM0DOECSJDQ1NUHTNIwdO/ZsXUuXQtM0lJeXx3T/lHxGutUv3Kh1IiJKTrwHMIktrVyKxRWLuRIIJQUx/B0JgyLdskBERMmHATDJSaKE2aWzE10GEUySCFFRI/YEmiUGQCIio+AlYCI6bzaTFLafzywJMEk8nBARGQV7AInovImiALtFgqxqUFQNggCYRRHiSNeHiYgoqTAAEtEFEQQBZkkAp/0jIjIuXrMhIiIiSjMMgERERERphgGQiIiIKM0wABIRERGlmZQNgI899hhmz54Nh8OB4uJi3HTTTTh8+HDIY/x+P1auXInCwkJkZmbihhtuwKlTpxJUMaUKVdXglxX4ggr8sgJ1pCU0DEbTNARkFb5g/3NUUuz5ESW7cz+Dcgquwy0rZ59fUFGhaTzO6C1lA+CGDRtwzz33YMuWLXj//fchyzKuueYauN3uwcd897vfxZtvvok//elP2LRpE1wuF77yla9AUZQEVk5GFpBVeIIKgooGWdUQVLQzv6fGAVpRNXgCCgKKClntf47eMwdpIoo9Ncxn0HcmDKYCTdPgDSjwyWefn19W4Q0qDIE6S9lpYNauXRvy+wsvvIDi4mJs374dixYtQm9vL373u9/hf//3f7F0af+6ui+//DIqKirwwQcf4Nprr01E2cNoigLPZ9sht7fDVFQE++WzIEicfyMZqaqGQISg55dVmEQBgmDs+fJ8QSXsir/9YVeFmZNBE8WUT478GQzIKiwmY38GA4oKJUzQU7X+46iN80/pxtjvlAvQ29sLAMjPzwcAbN++HcFgENdcc83gY0aNGoWamhp8+umnYf+G3++H0+kM+Ykl53vvoW7JUjTccQeaHnwQDXfcgbolS+F8772Y7nft2rW48sorkZubi4KCAnzlK1/BsWPHYrrPVBBUo/fyBRVjf3uVFTXsiedsu7GfH1GyU1Qt4lKMACCPcAwygmjHEVnVUu6WmkRKiwCoaRpWrVqFK6+8EjU1NQCAlpYWWCwW5OXlhTy2pKQELS0tYf/OY489hpycnMGfioqKmNXsfO89nL7/u5DPqUVubcXp+78b0xDodruxatUqbNu2DevWrYMoivjqV78KNQUOLrE00tUJ1eCXL0aqXhvxEUR0MUa6BGrwQww0beSjiMGfYlJJ2UvAQ917773Ys2cPNm3aNOJjNU2LeJlu9erVWLVq1eDvTqczJiFQUxS0/vyx8J9mTQMEAa0/fwyOJUticjn45ptvDvn9d7/7HYqLi3HgwIHBAE3DjXR1VzT45d+RqhdGfAQRXYyRbiEx+CEGgtB/FIkW8rjqpH5Svgdw5cqVePvtt/HRRx+hvLx8cHtpaSkCgQC6u7tDHt/W1oaSkpKwf8tqtSI7OzvkJxY8n20f1vMXQtMgt7TA89n2mOz/2LFjuPXWWzF27FhkZ2ejqqoKANDQ0BCT/aUKsxj942SWjH3kMkli1IOv0Z8fUbKTRAFSlJSXCvfgmqIcR1LhPupkYvx3SwSapuHee+/FG2+8gQ8//HAwxAyYNWsWzGYz3n///cFtzc3N2LdvHxYsWBDvckPI7e26Pu5CXX/99ejs7MRvfvMb1NbWora2FgAQCARisr9UIYoCrBFuwLaZxJQ4cNlMUth+PrMkwJQCJx+iZGc1hf8iZhKFlAiAVpMEU5gnKAqIeHylzydlLwHfc889ePXVV/HWW2/B4XAM3teXk5ODjIwM5OTk4M4778QDDzyAgoIC5Ofn48EHH8TUqVMHRwUniqmoSNfHXYjOzk4cPHgQzz//PBYuXAgA53XpnPqZJREmUUBQ0aBqGkRBgFlKnW+toijAbpEgqxoUVYMg9Pd8irwuQxQX/Z9BE4KKOvgZNIkipBT6DNrMEhRVg6yq0LT+cMsvmPpL2QD43HPPAQCuuuqqkO0vvPACVqxYAQB46qmnYDKZcMstt8Dr9WLJkiV48cUXISV4mhX75bNgKi2F3Noa/j5AQYCppAT2y2fpvu+8vDwUFBTgf/7nf1BWVoaGhgY89NBDIY9ZsmQJvvrVr+Lee+/Vff+pQBAEWEypczA+l3Am1HI2BqLEMUtiSn8GJVGAJKbwE0wCKRsAz2fCSJvNhmeffRbPPvtsHCo6f4IkoeQHq3H6/u/239U79Lmc6Ukq+cHqmAwAEUURf/rTn3DfffehpqYGEydOxDPPPBMSpI8dO4aOjg7d901ERETxkbIB0Oiyr7kG+NXTaP35YyEDQkwlJSj5wer+9hhZunQpDhw4ELJtaKA+efJkzPZNREREsccAmMSyr7kGjiVLuBIIERER6YoBMMkJkoTMuXMSXQYRERGlEAZAIp0NXROYo2SNaWCEJdB/M3oqTK8xlKyokM88v1QbqZ4OVFWFJ6BCVlUI6J8exWbh6ZwuDN8xRDoKyOpg+BsQVBRYTWLKhYhUpGkavEElZL1VWdUQVFRkmKWUCEm+oDIY/vppCCr9U2+k0lQiqUqWVXR5AiGrZfhkFT5ZRa7dkrC6yHh4RiLSydCev3P5ZfW8RqZTYvllFeHWmle1/jajCw7p+RtKQ38wpOTX4wuEXSrNL6tw+eS410PGxQBIpJOgGj0gBBUGwGSmaVrYcDRAVjXDh3g5yntQQ/+lYUpeAVlFtJfIJzMA0vljACTSyUjZQDV4eEh15/PyGP0l1ML2HQ1tp2SmjvAlc4RmohAMgEQ6Gen2MDEF7h9LZYKAsOscD7Zj5Nc42QlRn2H050+JJ4rRT9kjNBOF4NuFSCfmEY6+Zomn12QmCELUQRCSaPyRstHeg6IArrea5CwmMepxxs6RwHQB+Gkn0okoCrCawn+kbCbR8OEhHVhNIqQwr5MkRH5tjcQkiWFDoADAZuIE80aQbTMhXE63mUQGQLogfLcQ6cgsiTCJAoKKBlXTOMeawQiCgAyLFDJPnkkUUqpnzGqSYBY1BFUVmtbfs2lKgd7NdGEyiSjMssETkBGU1TNfPCVYUuALCsUXA2CSU1UNzUd74Hb6kZltRVl1LicVTnKCIMBi4mtkZCZJRCp3iImiAKuYwk8wDdgtJoDT/tFFYABMYsd2tmHja0fh7vEPbsvMtWLhP1dj3IzimO33L3/5Cx555BHU1dXBbrdjxowZeOutt5CZmRmzfRIREVH8sM84SR3b2Ya1z+8LCX8A4O7xY+3z+3BsZ1tM9tvc3IxvfOMb+OY3v4mDBw9i/fr1WL58ueHnPyMiIqKz2AOYhFRVw8bXjkZ9zKY/H0XV9CLdLwc3NzdDlmUsX74clZWVAICpU6fqug8iIiJKLPYAJqHmoz3Dev7O5er2o/loj+77nj59OpYsWYKpU6fia1/7Gn7zm9+gu7tb9/0QERFR4jAAJiG3M3r4u9DHXQhJkvD+++/jH//4ByZPnoxnn30WEydOxIkTJ3TfV6oKyDJ6fR70eN3o83shK6m1xqqqqujzBdHjCaDXE4AvkHrLT3W4fGjocKGhw4UOly/R5ehODgTg87jh87jg93mhpdgSEgGPF66mZvSeqEdfQyP8zr5El6QrVVXh9/rg6XPD0+dG0B9IdElkQAyASSgz26rr4y6UIAi44oor8Mgjj2Dnzp2wWCx48803Y7KvVOP2+9Htc8MnB+FXZHiCAXR6XfAE9Q/riRCQVXS4AvAEFPhlFT5ZRa9PRq8nNU5AsiyjrsWJll4fnH4ZTr+Mll4f6lqckFNknVWfxw2fzw1ZDkCWgwgGfPC4+qCkyPPztneg90gdvK3tCPT0wtfZDeexE/C0xOa+6XhTZAXuXhf8Xj/koAw5KMPr9sLT5050aWQwDIBJqKw6F5m50cNdVl7/lDB6q62txc9//nN89tlnaGhowBtvvIH29nZceumlePPNNzFp0iTd95kqZEWBKxi+t6jP70uJnsAeTyDserE+WYUnBXoCW50++JThvWE+RUWr0/g9gcGAH7I8PKxrUOHzGD9ABDxeuE43h1202d3cgoDHm4Cq9OV1ucMOypODMvxe479HKX4YAJOQKApY+M/VUR9z5S3VMZkPMDs7Gx9//DG+9KUvYcKECfiP//gPPPHEE7juuuvQ29uLw4cP677PVOEeoZfPb/AeFl9ADhv+zrYb+zKiLMvo8UZ+jXq8suF7AeVA5J5aDWrUdiOQ+/rChr8BgR7975uOJzkoQ1UjPz9eCqYLwVHASWrcjGIs+3bNsHkAs/KsuPKW2M0DeOmll2Lt2rVh21asWIEVK1bEZL+pYKSpcmTN2D2AI8U7dcRHJDdZRtSAq515jMnAR00t6jMcuT3ZKf7oX8IUgwekke7V5GxddCEMfChLfeNmFKNqehFXAjEISRSBKBnPJBh75YWRLheYoixSbwQmU/+av0qEs6gkCIYOfwAgIPqxY6T2ZCdZot86I1mNvXSGKEU/hnA1P7oQBj+cpT5RFDB6Yl6iy6DzkGGywBMM38MgQkCG2RznivRls5jgCsgIc4tcf7vB1yI1mUzItknojnAZONsmwWTwBGi2WKH4wj8/UZRgshg7IJkL8oCW1vBdYYIAS67+903Hk2SSIEkSlAj3E1tssRkYSKnJ2EdsoiRikiQ4rLZh20UIcFhtEA3eQwYAuTZL2D4iu0WCzWLscAQAJdk2ZJqHP49Mswkl2cNfW6MxWSwwW4Y/DwEibDbjL/VoNpvhqBgN8dzXUBCQNboMFntGYgrTkS0zI+xVIJPFzABIF8T4R2yiJGI3W2GTzPAGg5A1BSZBQobZnBLhDwBMJhHF2TZ4AjKCsgpRFJBhkmAyeO/fAJPJhKriLPS4ffAF+3uRbGYBuZnGD38DrLYMmE0WBOUANFWFZDLBPMKlUyOxFeRDynYg2NkNJeCHZLXCnJ8Hs8F74AdIJglZudkI+PyQZQWiKMBssUAyGfsWE4o/BkAinYmiiExr6pxQw7FbTICxrxZGlUqBLxzRJMFqMn5vWCRmsxnm0tgMlEsWFps1lT+CFAep8bU9iakpNsN+rPH/FxERUeyxBzBGLBYLRFFEU1MTioqKYLFYIHCIVkSapiEQCKC9vR2iKMJi8JvRiYiIkhkDYIyIooiqqio0Nzejqakp0eUYht1ux5gxY1LmnjkiIqJkxAAYQxaLBWPGjIEsyxGH7dNZktQ/zQZ7SomIiGKLATDGBEHovyE5RUag0cgCsgrvmWXTpBQbJQsAiqLA7fZBkRUIggCr1YwMe+oMmvD7/XB1d8HX6wIA2HKykJWXD2sKDexpbW1DX58HsqIgw2ZBSUkRbLbUeQ09vU54W1she/0QzSZkFBYiq7gw0WXpRlVVeAIq5DP3TNtMYkpMw0TxxXcMkY5cPhnuQOhEu56AAofN1D9y1uD8/iB6uvtClr3z+QLw+4PIzXMksDJ9+P1+NB85Cl9f3+C2vs4O9Dk6UTahOiVCYF3dSbS3dQz+3g2go7MHVZdUID/f2BMlA0BP413Hxd0AACAASURBVGl0HznWv27fGa6mFgTGVSG/qjKBlekjIKvo8QRCFu3zyyp8sopcO++dpvOXOt0SRAkmy+qw8DegzydDlo0/wvnc8DfA5wvA7fYmoCJ9dZ86HRL+Bvj6+tB96nQCKtJXS3NLSPgbEPD5ceJkYwIq0pen1zks/AEAFBW9x07A0+tMTGE6cvoCYVds9ssqXBFWeSEKhwGQSCeRwt8An8EDoNfjCxv+Bvi84ZfBMwq/34++9uHhaEBfewf8fn8cK9JfR3dvxLaAz4/W1rY4VqM/X1f38PA3QFHhPm3sAXkBWY24FCMA+CI9d6IwGACJdBI5GvVTDD7HoRol/PW3G/v5KYEglCjPQdFUKIFgHCvSnxKMHhA0g79HFW/0Xmh1hOef7EaaJ9XgLx/FGQMgkU6kMOtzhrYb++MmjjA62yQZeykqyWKGKcw6wANMZhMki7EHc1lHGOhhCbOWtZFIGdFXNzFlGPseTtMIxxCDH2Iozvh2IdJJRpS1OAUAdouxP24ZdhukKKOZbTZj34ButVqRlZcfsT0VRgLn5UYeqGPPtBt+EIi9rARipBBoMiGjpCS+BenMZBJhjpLyUmGgGcWPsc9IREnEZBLhsA0/AAsAsm2mlJjcOjfHEXaeRnumLSWmgskrH43MnLxh2zNz8pBXPjoBFemrpKQYo0aXQDwnyFtsVowdOyZBVenHZrMhb1wlRLs9tMFkQt6EcbDnZCemMB1l20yQwhxKbCaRAZAuiKBFu6ubonI6ncjJyUFvby+ys41/YCF9DMzRpagqJFGE3SKmRPgbyu32QjlzN3qGzQpzip14+rq64Xf2jwa2ZjvgyB8eCo2sr8+Fru5uQAOsFjNKy0oTXZKufD4fPM2tULxeSBkZsJeVpNQ8hwDgC8gIqv2n71SbazQeeP5mALwofAMREREZD8/fvARMRERElHYYAImIiIjSDAMgERERUZphACQiIiJKM6k1dI8MQVZUyGdGr4mCALMkhJ1axKjcLi88vX2QVRUmUYQjLwc2u7HnjxvK1dsLZ2srAj4vJElERl4BCkeNSnRZuvG4XOjo7EF3dzcAIC8vD4UFubBnZSW4Mv0c3b4LyomTCARlWHJzkDm+ChXV4xNdlm6aT51GT91JeD1+ZNityCobhYqJVYkuSzeBQACdPV64fT4AQI4jA0V56TmQgT4/BkCKK19QGQx//TQEFcBmlkZcScMIOtt70N3RHbKt1+lGQUk+8vJzElSVfnra2tF09AiCviFLbrW2w9vdiYopUxNXmE48Lhf27TsUsmbu6eY2FObloKZmUkqEwEN/WYOmrTvhcToHt+WOuwTqtVejcprxX8O6XQdQt3kHvD2uwW22rKNw9/Zg0pwZCaxMHz19PtQ3dcA/ZG3xrj4/evu8GD/G2BNdU3zxEjDFTUBWzwl//TQAflmJf0E6c7u8w8LfgM7WLvg8/jhXpL/2Y3Wh4Q8ANBVdLa1oPXUqMUXpqO74yZDwN6Cjuxd1x0/GvyCdHdm4BXWfbgsJfwDQc+wk2j76JEFV6edUw6lh4Q8AfC4fTtTuRuPhEwmqTD+nW7tDwt+Arj4/mtuGv3eJImEApLiRo6xUrmqAEiYcGomnty9qu7vPFbU92XU0NcHjcUds97a1xbEa/XlcLnS0d0Vs72jvgsdl7NfQW3cM8HjCtrXWN+Lo9l1xrkhfnlMtw8LfAJ/LB1dzU5wr0ldPnw9ufzBie5cz8ueT6FwMgBQ3I005bvQ5ydURAqxq8F5OJUqABwB/MPKJyQh8fhlalNdQUzX4/HIcK9Kfxx0lIHg80Dy++BUTA0ogei+7z2vs92hQDozQHv0zSjQUAyDFzUjjPESDDwQRR1gOTbRY4lRJbFgtVkCIfMjIsGfEsRr92awmmCzmiO0mixk2q7Fvm84pLIzYZs/OhjUnM47V6E84dw3gc2Q4jP387GZr1JO2zRr5/Ut0rqQ8mqmqirq6OrS1tUE9p9dh0aJFCaqKLpZZEsPeuwIAkiBANPggEIcjC73dzv6bGs9hlkRk5xr75JNbXITubAecvWHuMxJE2AsihwsjsGdloaS4CMdPNoRtLykuMvwgEHP1WNh37B52DyAA5I6/xPCDQIrGjUH7gePoaG4f1padn42sMWUJqEo/mVlWZNmtcEa4nzgvO7XWO6bYSroAuGXLFtx6662or68fdklQEAQoirEvo6UzsyRCUbVhA0FEAbCZjd8ZbbNbUVxSgLbWzpAQaJZE5BXlwWw2/rfzouoJUA4fgrvv7P2OgsmEwrJRKTEVzJiKMvj9PrS0tg/ekyqJAkpLijCmwtjhAQCqZ10Gpa0dLbWfwdVy5p5Nux0l1VUoXfKFxBang4KCAoyaMx3YujskBGbnZ6Nq0RyUjylPYHX6qCjKxcmWrpB7AUUABbkZKCkw/kwDFD+ClmQ3Xl122WWYMGECHnnkEZSVlQ2bHy4nJ3ne4FxM+vNRVQ3BMz27kiDAJBk//A0VDAbh7HFDVRWIooTs3MyUCH9DtZ46BcXjgWS2IDM/D1lJ9LnUQ0tLB3p7+0d05+TkobTU2L2b52o8WgdvSxtUlxtilgMTFs5LdEm66uzsRPuxBiAgQ7SaUTC2AgUFBYkuS1ft3U74/P0dIvlZdmRmpc5co/HA83cSBsDMzEzs3r0b48cn/6SkfAMREREZD8/fSTgIZO7cuairq0t0GUREREQpK+nuAVy5ciUeeOABtLS0YOrUqcMunU2bNi1BlRERERGlhqS7BCyKwzslBUGApmlJNwiEXchERETGw/N3EvYAnjhh/KV6iIiIiJJZ0gXAyspKXf7Oxx9/jP/8z//E9u3b0dzcjDfffBM33XTTYPuKFSvw0ksvhfybuXPnYsuWLbrsn6JQZEAN9i8NIkqAZBl5lmgD8Xt98Lr6oMgKJJOETEcOzDZjTwI91LGGBjQ1dKOtuwdWqxWVo4sxdcrYRJelm+PHj6P3VDt623oAADnFucgpL8LYsanzHA+t24iu002QPW7kFZfCPLoAk+bOTXRZujlysh7Nh06hu7MPeQUO5BYXYvrMiYkuSzd+vx8nO33o8wVgNgFFDhtG5TkSXRYZTNIFQAA4duwYnn76aRw8eBCCIODSSy/F/fffj3Hjxp3333C73Zg+fTr+9V//FTfffHPYxyxbtgwvvPDC4O8Wg6/UYAgBD6ANuYyvKIASBMwZ/WHQ4Pq6e+F2np0oORgAfB4vHHm5yEyBywz7DjZg87ZdONHYObht76GTON3ShmVLjD+VyKlTp3Dko73Yt2cX4Dtzd4xNQM20y2CxWFBebvx55La+9jqOrt2MzuNnr7aMu2IekGHHJINPBA0A22p3Ytv6HWho6BjcNmp0HnwuF+YumpXAyvTR7vTjYHM3PMGzk+o3O4No7/Nh+piiBFZGRpN0AfDdd9/FDTfcgMsuuwxXXHEFNE3Dp59+iilTpuCvf/0rvvjFL57X37nuuutw3XXXRX2M1WpFaWmpHmXT+ZADoeFvkAbIPsBi7JUy/F5fSPgbqq+7BxaLzfA9gdt3HgwJfwDQ1+fF9t1HUFSYi1nTJyWoMn2c3HoI+7buDN3o07Bv605k5WUaPgAe2vAxDv1lLXraukK2H/tkC6wFVsMHwEPHTwwLfwDQdLobtZu2w5aVZfiewGNtPSHhb0CzM4jsVieqSoz/RZPiI+mmgXnooYfwb//2b6itrcWTTz6Jp556CrW1tfjud7+L73//+7rua/369SguLsaECRNw1113oa2tLerj/X4/nE5nyA9dADXKQuyaCqjJM8Dn8/C6+qK3e9xxqiQ29u4/jlMtrWHb3F4FJxvCtxlFfX09Ttcdj9h+uu446uvr41iR/toO1g0LfwOatuzFoXUb41yRvrpPdg8LfwOaTnejpy18m1G0O/3o9UU+Trb0eeNYDRld0gXAgwcP4s477xy2/Zvf/CYOHDig236uu+46vPLKK/jwww/xxBNPYNu2bbj66qvh94dfYxEAHnvsMeTk5Az+VFRU6FZPWhhpwHlyDUi/YJoafp3jAaoix6mS2AjIAbi9kU8+Ho+xTz5yMAivJxCx3esJQA5G+RJjAL6OyK9RT1sXYDL2ZzAQiP4e9HqN/RkMKoFwS40P8svGfv0ovpIuABYVFWHXrl3Dtu/atQvFxcW67eef//mf8eUvfxk1NTW4/vrr8Y9//ANHjhzBO++8E/HfrF69Gr29vYM/jY2NutWTFoQR3m4jtSc5yRz98q5kMvblX6vFDocjI2J7Xl5uHKvRnyCKcGTbI7Y7su0QwkxTZSRZYyIvaVcwtgrIy4tjNfqz2W3IiLIiWqY98utrBFlmC6LdKZ1lMf591BQ/SXcP4F133YVvfetbOH78OBYsWABBELBp0yY8/vjjeOCBB2K237KyMlRWVuLo0aMRH2O1WmG1cr3Fz00yA3KEHiRBAgx+cs2wZ8LTF/4ysCCIsDuMfY9jzaVjcPDQMew8cHJYm8ORgcrR+n1BS4SxY8eic/JpnDjcELZ9zORqw48Ezh89CgVjq0IGgAyomD3R8PcAllYWYnx1JfbuG36pvnrsKBRVG3tN5+wsK/LtZrR7wvdElzh4fqLzl3QB8Ic//CEcDgeeeOIJrF69GgAwatQo/PjHP8Z9990Xs/12dnaisbERZWVlMdtH2pPM/ff6KedcZhPE/lHABme2WZCTn4/ertB7rARBRHZeLiRT0n3cLtjls6uhyAqONTYNXg4uK3Jg1owJKTEVzOxlC+F2eXB05370dvTf45tTmI3qGVMwe9nCBFd38SYtWQjZG8TR9RvQuG0fACC3OB+j5s1A8Tzjj5CtrKxE39z+e23rjtbD6wcyrED56FFY8MXLMWlsVYIrvHg1o7Oxs7EHPUPuBZQAjMnPREURB4DQ+UuqlUA0TUNDQwOKi4uRkZGBvjO9KQ7Hhc9v5HK5BtcUnjFjBp588kksXrwY+fn5yM/Px49//GPcfPPNKCsrw8mTJ/GDH/wADQ0NOHjw4HnvjzOJf06qenZAiCABkvGD0VCKLMPT54amqZBMEmx2e0qEv6G27z4EvycIk0lAQUk2xo0Zk+iSdHVgz374WvsDoK0kG5OnTUlwRfo6VFsLtSsAVXXBlJWJSV9YlOiSdFVfX4+2li7Ibg0Wq4DC8nzd5phNFk3dfXD5+u87LnXYkJ3F3r8LwfN3kgVAVVVhs9mwf/9+VFdXX9TfWr9+PRYvXjxs+x133IHnnnsON910E3bu3Imenh6UlZVh8eLF+OlPf3pBAzv4BiIiIjIenr+T7BKwKIqorq5GZ2fnRQfAq666CtGy7bvvvntRf5+IiIjIqJLurvtf/vKX+N73vod9+/YluhQiIiKilJRUl4ABIC8vDx6PB7Isw2KxICMjdHBAV1f4SUwTgV3IRERExsPzd5JdAgaAp556CoIgJLoMIiIiopSVdAFwxYoViS6BYswTkBGQVagqYDYJyLRIEA0+B+BQp5va0NHZCbfbi8zMDBTkF6Dc4HPkDbXtyAF0nO5Cd4sTNpsJFeUlmD17eqLL0k1dXR08J+rR19wOAHCUFcFeVYnx48cnuDL9HFq3Dqg7AcXtgXRJOTB6NCbNnZvosnSze8cuNJ3sQ6+zDznZDpSPz8VUg89xOFQwGERHjwdeXwCiJCAzw4qivAufLYPSW9IEQFVV8cQTT2DNmjUIBoNYunQpfvSjH8FmsyW6NNJRlyuA4JAl04IBwBtQkGu3wGIyfgjce+AwjjWehj9wZo6udsDa1AynewwmTzB+gNi5Zy+2fLQPm3eeXZaxIL8ALae7cP1Nw0fdG82pU6fQ9N467P5wM7wdnQCAjMICTL96Pmw2G8rLyxNc4cU79JsXcfxvb8NV3zK4bczVC3Eow274iaABYN2H2/Dpus+w+8jZtd2nTyhGR5Mbi5fNS2Bl+uhz+3GqtQdB5exx1OkOos/tw9jyogRWRkaTNGfcxx9/HA899BAyMzNRVlaGJ598MqYTP1P8uXxySPgboAFw+iKvwWoUp063hYa/M/wBBUdONqK9M3nuX/28tn92JCT8AUBnVyfe+3g3Nm7ck6Cq9NP0yRZs+fPfBsMfAHg7OrHlz39D0ydbEliZPg5t+HhY+AOAhg83wvf6XxNUlX52HDyEnet3hIQ/ANh9pA2bNu7E7h3Dlxk1mubO0PA3wOWV0dblTEBFZFRJEwBffPFFPPvss3jvvffw1ltvYc2aNfjDH/4QdSoXMhafHHkhdkUFAvLwg5qRdHZ1Dgt/A/x+GW3tHXGuSF/btu3G7n3h17/u7OpE46lTca5IX/X19Wjdczhie+uew6ivH77EmJEo23cNC38DmnZ91n9p2MBc9X3YcjD889t9pA1NJ8Mv1WgUfW4/fP7Ix8mePm8cqyGjS5oAWF9fj6985SuDv1977bXQNA1NTU0JrIr0FKbz75x2YwdAvz/8+pwD5GCEdZANwucT0NnVGbHd5XHHsRr9eVta4O7qjtju7uqGtyV8uDAKjydyD5GrvgUwmeNYjf7cHl/Udp/f2FcaZCX6MUaJ/B2baJikCYCBQCBkyhdBEGCxWOD3+xNYFenJNMJAj5Hak12GPfpSTGarsU+uWTkCxpYXRGwvzM+JYzX6MxUUILOkMGJ7ZkkhTAWRn78ROIpKI7YVThgP5OXFsRr9WXJtKIzyEuXmZcavmBiwmSxR260WYx9DKb6SZhAIAPzwhz+E3W4f/D0QCOBnP/sZcnLOnliefPLJRJRGOrBZRAR94Xv5zKIIk8EHgZSWFOHkqWZ4wvQE5jsyUFlq7JHAM6ZNxf5d9Th+angv4NjyAlSUlySgKv2MHz8ezhlTcXD9J2HbR8+YavyRwOOrUDhhPDqO1A1rKp453fCDQMaPK8bMmvF4b8Pw53fVzArkVOYmoCr9ZNgtyMowweUN39XnyOKgSTp/SRMAFy1ahMOHQ++/WbBgAY4fPz74O+cHNDa7xQRF1eA55z45SQRy7UnzVvzcigryUTN5AvYdOBISAvMdGZg8YQIyU2Cy0SkL+gNQ7a66wcvB0yeMw4KF01JiKpiZN34Z3t4+HP20Fm2H+kNE8aTxqF4wFzNv/HKCq7t4k5YsAXr7YHvvQ5za8hkAIKuyFGPmXwHTNcYfxV1ZWYn5i/ovc+/YV4eOTqCwAKiprMD8L87GzEsnJbjCi1dRkosTzV3D7gUsyrVzKhi6IEm3EoiRcCbxz0eWVfhkFRo0mEUBNovxw99QbqcT9S1t0FQVVrMFZUX5KRH+htq+cz+6evrgyLBAyrdh9oTJiS5JV/t27IDW3AwAEMrKUDNzZoIr0teh2lqIHf2DktTsbExauDDBFemrrq4Obad7IXtVBC39PYOVlZWJLktX3U4X/H4FoiTAYbMhwx798jCF4vk7iQNgIBDAiRMnMG7cOJhMyRkQ+AYiIiIyHp6/k2gQyACPx4M777wTdrsdU6ZMQUNDAwDgvvvuwy9+8YsEV0dERERkfEkXAFevXo3du3dj/fr1IauALF26FK+99loCKyMiIiJKDUl3bXXNmjV47bXXMG/evJBBH5MnT8axY8cSWBkRERFRaki6HsD29nYUFw+fLsPtdnMUMBEREZEOkq4HcPbs2XjnnXewcuVKAGenfvnNb36D+fPnJ7I00oknICMgq1BVwGwSkGmRIBp8Euih9h2pR3NrO5x9LmQ7slBWXICaiVWJLks3O2trEWzvRm9zGywZdhRXjsWlC1NnlGxdXR3kPXuAk2eWfbukEqZp04w/B+AQhzduhHbgIOB2Q7xkDLTR5Zg4d26iy9LNjh17cPqUE73OPuRkO1BxSQ4uM/gch0R6S7oA+Nhjj2HZsmU4cOAAZFnGr371K+zfvx+bN2/Ghg0bEl0eXaQuVwDBIUu+BQOAN6Ag126BxeATQQPA+s27sX3fMXQ5XYPb8rOz4HS5sGCW8U9Ae9dtRd3GDdj1ye7BbUWFhehqrscVt3w1gZXp49SpU5Bfew2n/v4B5M7+aVJMBYUo/9JSnLrjDpSXlye4wot35H/+By3v/B3uurPrGl9y7WIcdrkwccmSBFamj4837MS76z/D4WNnl/WbOC4PLa0BLPvirARWRpRcku6Mu2DBAnzyySfweDwYN24c3nvvPZSUlGDz5s2YNYsfXiNz+eSQ8DdAA+D0GXuNTgDYd/jEsPAHAF1OF7btOYrjjY0Jqkw/J3d/FhL+AKC9owPb3lyPnR9vTFBV+nH9/e84+b9/Ggx/ACB3duDk//4Jrr//PYGV6ePwhg1oPif8AcDJdz+Ctt74X7C3HT6CDR/vCwl/AHD4WDc2froDO3bsSVBlRMkn6XoAAWDq1Kl46aWXEl0G6cwnR16pXFGBgKwauhewua1zWPgb0NblQlNTD8ZWVMS5Kv3sXbcVx7YdDtvW3tGBjsMngEXGnVC4vr4egS21EdvVQ4dQX19v6AmFte07hoW/Aa179kBYt87QvYDdDR7sPtoctu3wsW6cPuVEis3pTfS5Jd3Z9uqrr8YjjzwybHt3dzeuvvrqBFREegnT+XdO+wgPSHL+QOSACwDegD9OlcSGbPajvaMjYruvN3z4NQpvSwuGr+I8pL2nF96WlrjVEwuqpy9im7uuHkjSSffPl98b/T3oC7NON1G6SroAuH79evz617/GTTfdBLfbPbg9EAjwHkCDM40w0GOk9mSXZc+I2CYCyLRb41dMDFhzc1ExMfI9cNmlw0fvG4mpoAC23JyI7bbcHJgKCuJYkf7EotKIbdkTqoC8vDhWo7+cnEzk5UZud+Sm54oPROEk5Rn3gw8+QEtLC+bNm4eTJ08muhzSic0S+e1mFkWYDHz5FwDGlOejtDh8gKgsL8LY0UVxrkhfk6dNxfgpk8K2VUwsR37ZmDhXpK/x48dDuvJKmAoKh7WZCgohXXml4UcCC+PH9Qe9MAovn4WJ06bFuSJ9VV6Sj5op4V+jOdMqUDDGEeeKiJJXUp5xy8rKsGHDBkybNg2zZ8/G+vXrE10S6cBuMcFukYZtl0Qg127sS08AMLaiAlfPvgxV5UWDHywRQFV5EebNmIzS0si9L0ZROnc6Fi9fiqLCsyFp8uWTMOeryzB1yZwEVqaPScuXo/z2b6BowdnnUrRgDspv/wYmLV+ewMr0MXHJEhT9v39B+dyzN8Jljq/E2Fv/CcJ11yWwMn1UVlbiC/OrsfCK8YM9gXm5wMIrxmPx4sswe+KExBZIlEQETdO0RBcxlCRJaG5uHpwM+tFHH8Wjjz6K73//+3j00UehKEqCKzyLi0l/PrKswier0KDBLAqwWYwf/oZqaWlBc7sLbo8XmfYMlBVlpUT4G+rgxh3w9HXAkmWHbDVjRgrNIQcAh3bsgNjcP5hALSvDpBQbOXC4thZiRwcEaFCyczBxoXEH74RTV1eHpmY3fD4NNpuAyjG5hh68Q/rj+TsJA6AoimhpaQlZDeT111/HHXfcAa/XywBIREREF4Xn7yScBubEiRMoLAy9B+fmm2/GxIkTsX379gRVRURERJQ6kq4H0Ej4DYKIiMh4eP5Okh7A5cuX48UXX0R2djaWj3Cj9RtvvBGnqoiIiIhSU1IEwJycHAiCMPjfRERERBQ7SXcJ2Ov1QlVVZGZmAgBOnjyJNWvW4NJLL8W1116b4OpCxaILWdM0BBUNitr/skiiALMkDAbkVNDS1g6324tgUEFmhg15eTnIyrInuizd7NqzF8dOtMHp96M4x4HiokzMTqFRpPtra+Ft60Z3WyvM9gwUl5dj8sIFiS5LN3V1dQju2YdgQ//azeYxFTBPqzH8HIBDHdy4BX1HT0LxepA1qgymUfm4NIVGcm/fXY/W7m509PjgsFswtqwI06cadxlG0h8vASdJD+BQN954I5YvX47vfOc76Onpwbx582A2m9HR0YEnn3wSd999d6JLjBlV1eANKhiayBVFg6wCGWYpJULgoSMn4XSdXY7K6XKhq6cXYypGIy/X+JO0vrNhEzZt2IzjDe2D26onjIXH7cMXUiAk7V23Afs/3owDW7YObisqKkRnaxsW/tNNCaxMH6dOnYLnz2+gae27UDr7l72TCgoxatm1OHX7rSgvj7wSilHseOl17HnnfTS1nF3W77J506G5gpi85MoEVqaPjbX78MHWOjR1ewa3lWTUo7mrF8u+UJPAyoiSS9JNBL1jxw4sPDMn1V/+8heUlJSgvr4ef/jDH/DMM88kuLrY8ssqwnXHqlp/m9E1N7eFhL8B/mAQTU3GXmMVALbt2IHNtftCwh8AHD1yHOs378Nnh3YnqDL91G3bGRL+AKC9vQOb3ngbezZuSlBV+un5+7tofOWVwfAHAEpnBxpfeQU9f383gZXp48DHG7Fpzdsh4Q8Adm3ZjeZPtySoKv0crm/Ehl3HQ8IfALR6vdi8pw7bd9cnqDKi5JN0AdDj8cDh6O8Jeu+997B8+XKIooh58+ahvj51P7yqqkGJcjV+4JKwkXV190Zsc/t86O6JvFC9EbS1u3H0yPGwbQeO1KGt1RvnivS1d90GnNp3IGybt7MHrUeOxbkifdXX1yOw7bOI7YFtnxn+GNS79yhcne6wbY1763BgnbFDfOPpPtS3usK2NXV70NrdHeeKiJJX0gXA8ePHY82aNWhsbMS7776La665BgDQ1taW0tfpR4p3GvrvDzSyoCxHbw8G4lRJbLh8/qjtmi8Yp0piQ7NIaG/viNju6XLGsRr9eVta4IvySfRBg7fF2D3Vnt7IX8KaWjoAs7GPMYFA9GOI2xv9GESUTpIuAP7oRz/Cgw8+iEsuuQRz587F/PnzAfT3Bs6YMSPB1cWOOMLtfQJg+HsAbTZbxDYBgD0jI37FxEBWbuTnl5efiSz78HWQjUTIyUHZ+LER23PKS+JYjf5MBQXIHDU6YnvmqNEwFRTEsSL9OUrLIrZVjK8AcnPjWI3+HBkmRBtO5rBH5bQkcQAAIABJREFU/owSpZukC4D/9E//hIaGBnz22WdYu3bt4PYlS5bgqaeeSmBlsSUIAkxRUqBZSrqX6oLl5mZFbHNkOQw/ErikxIHZMyaFbauZMgGXjIkcLoxg6rSpqJo+NWxb2fixKCg2dgAcP348zNOnQiooHNYmFRTCPH2q4UcCZ1WW9we9MMZeNhmTp4V/fY2isiwb48cUhW2bWOpA1SWcZoxoQNKNAgaA0tJSlJaWhmybM2dOgqqJH6tJhBZUh90LaBIFWEzGD4ClxUUI+mW0dXZBUc8Oasm02VBVGblnwigunzQdZr8ZtqwM7Nt/BN1dbuTlZ6JmygRcOaMmJRajr5g+CQsAHP34k8HLwRMun4XJi+dg6pIvJLY4HUxefhPUjk44t21D96ebAQB5C+Yje/ZsTF5u/FHOk5dcCcUbQPa69di/vf9+zlGlhai+chby505LcHUXb8yYMVg0q/+LdF1DOzwA7ADGjynCVXMmYmIlp4IhGpB08wAaSazmEVJUDbKqQkB/r6A40vVhg3G5POjrc0NWZFitFhQXGfuy2rnq6+txsqEVblVFpihidFm+4XuOzrV33QbIwSCEDAmF46pTYnqUoQ7u2AGhuRUAoJWV4NIUmscR6J/upm//MaiKF4I1KyWmfxmqoaEBDd0B+NwB2DItGJNnwZgxYxJdFiURzgPIAHhR+AYiIiIyHp6/k/AeQCIiIiKKLQZAIiIiojTDAEhERESUZhgAiYiIiNJMUk4DQ6mttbMXfW4fZAXItFmQ77AjM8ua6LJ0s3/PXjQeOA6/z4Xs3FwUjx2DKQafX22oPbW1cLb3wdnWDktGBnLLS3D5wvmJLks39fX18G7fDpw8s+zbJZXImDUrJabxGfDhxv1o6eiGx+dDYWkByuwBzJ07N9Fl6cYbUODyBRBUAEkEsjMsyLAYeyJ2Ir0xAFLcBAIBHD/dDafn7JJpTo8fXU43KkcVItdh/Fn6P1r7LrZ/sAFHTzQObps0aQL6urow7yrjz5O3e91G7Nq0E/Wb1g1uc4yqQs+pViz9hvHnyTtUWwu8/wE6/vEPoLOzf2NBAQqvuw6nVtyREtPdvPrmJqxdfwCnO86ui7twdjU8rr1YvMT4X1S6XQF0e0OXhHMHvMjJMKMghb5oEl0sXgKmuOns8YaEvwF+WcXp1q4EVKSvXTt2YNfGrSHhDwAOHTqCnR9txGe1tQmqTD/7dx4MCX8A0Nd0AlvefhufbdycoKp0tGs3Ol5++Wz4A4DOTnS8/DJc7/w9cXXp5MON+7Fm/eaQ8AcAG7cdxdbjxxNUlX4CAWVY+BvQ6w3CG1DiXBFR8mIApLjpcrojtrn9Mnr6fHGsRn/dDc04dOhI2LZd+w7D09Mb54r0tXvdRrTuPRC2Te3oRNvRk/EtSGf19fVQo4R0tbYW9fX1caxIf8dPNaOzQw3btn9fKz5atzfOFemrLyBHbXf5wodDonTEAEhxE5TDn3jOthv74Oz3RT/5KN5gnCqJjaDFhL6mExHbnU5PHKvRn7elBd5o7WceY2S9nsifsdMd3dAsxj4lqGr0Y4zKZQ+IBhn7006GYrOaI7aJAOxmY9+fY82NfA9jYWE+MnKz4liN/sw5WSicODFie2GJsZf0mzR3LjJHj47Ynjl6NCYZfKBEWX7kFQ8mji1EVubwWzSMxCRGH+hhknjKIxrATwPFTV525ICUZbcafiSwIy8X82ZfFrbt0qmTUFZ1SVzr0dv0aVNRPmNK2LaSqbPw/9u79+go6zt/4O8nk5kkkxtJJleSDCFXyAUIgRiuApaVWn6tWLvatbJlPaeeY7e4nnZb6+6pdlW29GzP7qprpfUgtHro2irVbRURgQDKLSEkBBIyXCYh98ltJpPJXJ/fH5iYmExE8uR58sy8X+fkHPN8ILwfc5l3nsv3SUxSdwEEACxZDCRMsh8JCTdnKpcaE4v8+YZJZ4tyM7Fc5c88jonQQDPFo9OjdbzvkWgEvxtINskJsXC5fOjqs8E75lRMjD4M8+fGKRdMImXl5RDcOmij9LhU1wCLpRcGQzwWFBdgyZpVAbGMyLyiAuCBLbhSeW70dPDcFXdg4bJyLNqwWuF001ewZQsaLBbYT56C4+OPAQARK1Yg8o5yFGzZonC66Vu3oRgOHTDn+EWcunAdADDXEIeVS7OwOF/9z0PVaDRIiolAl9Ux7meMRgASInXQcSkYolGCKIq8KuI28WHSt8c+6IR1aBgenw/hYRokxgXW/zuTyYSe1jY4h4cRFh6OhLlpyMnJUTqWpM4fOgaH1wcIIUjNywyIcjtWQ3U1QtrbAQC+1FQUqPzI2OeZzWaY2m1wOHyI9AkBsfzLWF6vF4MuLzxeEaEaAVE6DTQalj/6DF+/WQCnhV9ARERE6sPXb14DSERERBR0WACJiIiIggwLIBEREVGQYQEkIiIiCjIBuwxMZWUlfvnLX6Kqqgrt7e14++238Y1vfPawelEU8cwzz2DXrl3o6+tDeXk5XnrpJRQWTr7OGUmnpdOC7gE7RBGI0ocjZU40YqP1SseSzMfVp9B+oxVOux2xhjgYk40oKgmcuywvVlejz9wGe28vwiL0SMhIQdHqVUrHkozZbEZHbRP62zsBAHNSk5FSkhtQdzp/VNWI1lYrHMMuxMRFID/fgCWZmUrHIiIZBWwBtNvtWLRoEb773e/ivvvumzDfuXMnfvWrX+G1115DXl4enn32WXzlK19BY2MjoqOjFUgc+IaHh3GxuROWMY8M67ENobPXioLMVCTFqftJGQDw4eH3cfjwETS2XB/dVpSfh95+C9asWadcMIlcPHYCDR+cxpUTh0e3xaXNRU9LB9Z++5sKJpNG3alTaDlVj/r/fXfc9sJvbYa1vBDFKn8SCAD87p0zOHCyHuaBz576sTYvCY71PqwonqdcMCKSVcAWwE2bNmHTpk2TzkRRxH/+53/iqaeewpZPF3fds2cPkpOT8cYbb+B73/uenFGDRnuvbVz5GzHs9uBaW6fqC+C56mocP/XxuPIHABcaL0OPUESE6bFM5QWi8UT1uPIHAH1trTj79l8D4khg9+UbE8ofANT/77sIj4sFVP75+6iqEX88Wo3e4fHbj17uQlR0AwsgURAJymsAr127ho6ODmzcuHF0W1hYGNauXYuPP139fzJOpxNWq3XcG926rj7//7+sDhe6+gZlTCO9tp42XGi8POnsdONF2JwDMieSVt2hw+i5cHHSma/HgrbLV2VOJC2z2Yz28w1+5+3nG2A2m2VMJD3TFcuE8jfigqkDR86p+3NIRLcuKAtgR0cHACA5OXnc9uTk5NHZZHbs2IHY2NjRt4yMjBnNGWicHp/fmQjA43HJF2YGDDumzu9wqnv/BJ0WfW2tfue+nolHd9XE2tEB7xRfg16PC9Ypfj6oQe+g/1+yzANO+HxuGdMQkZKCsgCOEITxTw0XRXHCtrGefPJJDAwMjL61tLTMdMSAEhmu8zvTCEBkeLiMaaQ31Y0shrh4RIdFyphGeq5IPRLyCvzOI9INMqaRXnF5OaLSUv3Oo9JSVX8N4FxDvN9ZjiEOsULAXhVERJ8TlAUwJSUFACYc7evq6ppwVHCssLAwxMTEjHujW5c0JxL+6nVctF71dwLH6uOwdnHZpLPFCwphNM6XOZG0SktLkbZk8rvkk4oWIT45QeZE0ktdkAPNJCVJY4hH6gL1P885IyMBpZlxk87K8lOxtDRb5kREpJSg/HUvKysLKSkpOHjwIJYsWQIAcLlcOHr0KH7xi18onC5wZSQbMOTyorW7FyNngwUACTF6LMz0X7zVYll5OdxaQKuPQM2lelj6emGIi0dZSRHuKF0dEMuIZC4uAHAfbhw7OXo6OHvlOswvK0LxBvXf5Vyx+S64Bmwwn61B59laAEByWQmMZYtRsfkuhdNN351L5sM2OIjo8Cs4erkLAGCMDUNFUTaWVaQrnI6I5BSwBXBwcBAmk2n0/WvXrqGmpgbx8fHIzMzE448/jueffx65ubnIzc3F888/D71ej29/+9sKpg58+RnJSJkTjd7Bm9eLRYaHq/7u37FWlJYjKSYBxfnFcGIYYQjHyjVrlI4lmYXl5VhYXo66nEx43W6EQIvYBfMDotyOWPvQvahbaMTwV28W2nBDDIpLSxVOJZ3Nq0tQkhmLNW2D8DqBiNgI3LlE3UeniejLE0RRFJUOMROOHDmCdesmHpHYunUrXnvttdGFoF955ZVxC0EXFRXd8r9htVoRGxuLgYEBng4mIiJSCb5+B3ABlAO/gIiIiNSHr99BehMIERERUTBjASQiIiIKMiyAREREREEmYO8CptnrnKkDV7v6AQCG2DDMT4xFRpL/BWrV5sip82jv60bfoB3JUXNgTItHWUmx0rEkU1ddjb7r3Rho7UV4jAYJWakoXbNa6ViSMZvNuGzuQbe5EwCQaExGnjEhoO507hwYQp/dDVEEwnUCkiMjoNdrlY5FRDJiASTZ9Pf349ClDtS39n62sQ24eKMPG4p8yJur7idJAMA7R4/jvcozaGjrGt22qGA+2q1WbF61UsFk0rh07CTOvXcEN06cHd2mz8xEb2sf7nrw/ymYTBqnT53Cueo2/PVwzbjtX123GEtKO7Bc5U8CAQBTxwB6HZ898s3mAnoGXZhn0MOg8sXYiejW8RQwyeZi+8D48vepbtswTpvU/YxVADhbXY2Pai6NK38AcL7hKk5VNeHUqVMKJZNO7Sf148ofAAw1N+P0m39BdeUxhVJJp6XZPqH8AcBfD9egpdmuQCJpdQ4MjSt/I3wAbvQOyx+IiBTDAkiyudpl8ztr67ei8YZFxjTSa7YN4XzD1UlnJxoaYfHKHEhidYcq0V5XP/mwpwedTTfkDSQxs9mMi43+n+99sbEFZrNZxkTS67NPLH8jXD4fLLYhGdMQkZJYAEk2tmGX39mwG3D71N2QnI6pj6A43f5ffNXArRUw1Nzsd27rd8iYRnqdHR1wupx+506XE50d6j5S7fb6ppx/wZiIAggLIMkmaYrri6LCNYgNV/dF6JER4X5nBkMEtBpBxjQzICoS0fn5fsfxaeq+hnN5eTmSU+L8zpNT4lR/DWCEduof+eFadX8PEtGtYwEk2cxPmgN/HS8vJU71dwKXZs/D6uKFk87KcnNQkpEucyJplZaWIqd88kclJi5ZjOTCLJkTSS83zwiDYeIXqcGgRW6e+u8CTozRw9+vITFhWsTyTmCioMG7gEk2S3JSYHU6UHOtBwOfng4O1wLZSfFYlZOkcLrpS09Px/qlJYiM0uBskwkWiwMZBgOWLpyPlYU5AbGMSHrRfPi+vRlXqy7D1tgIJCQgs7gIOWUlKA6ApW7uvms5XHYHTlc1oq6hFQBQXDAXy5fm4+67liucbvpi9Vqkx+rROjCEsWd79VoNMufwDmCiYMJnAU8DnyV4e/r7+9HQaQUAxEfpA2L5l7FMJhNudFjg0oZA5/bhzlV3KB1JcnWHKjHk1QAAUvLTA6LcjnWuuho2580TJNFhPiwpLVU4kbTcbjcstpvXpGq14PIvFHT4+s0COC38AiIiIlIfvn7zGkAiIiKioMMCSERERBRkWACJiIiIggwLIBEREVGQ4TIws4woinB5ffB9ukaDJkSAViNAEFS+iPAYH9TUoam5GUNOH7JT0zB3bjTKs/KUjiWZsx9/hP4WCwb6ehEbF4+UBQtQFABLpIyoqa5Ge6sVHW09CNeHY968BFSsDpw7nc1mM2rNA2hvvfnowtS50Sgxxgbcnc6BzOvzwu1zwyf6ECKEIDQkFKEhfLkjGovfEbOIzyfC4fZi7G3ZXq8Ijw+I0GpUXwJNJhM+unwN756qQp99ZGs9VuZnQ7jDieXF6i9Jxw+8j9MfHsH1q02j2wryC2DvtaD8znUKJpNG7bEzOHC8Go1nz49uMyQa0N5lw5b7vqJgMmmcNplwrNKMtyobx23fsiYfq9e4sTwnR6FkdKvcXjdcvs8eO+kVvfB6vfCJPug0OgWTEc0uPAU8izg9Pky2Jo9PvDlTu9qOAez9aGz5u+lE4xUcbbiuSCYpnauuRu3RY+PKHwA0NDbg/NHjqDp1SqFk0jlec3lc+QMAS7cFhz84ik+OnVQolXQaa/smlD8AeKuyEY21fQokoi/DJ/rGlb+x3D43vCp/3jiRlFgAZwmfT4R3iiUZvT71L9d4pb3N7+zClVacrj7vd64GtuYWNDQ2TDq7UFsDd3+/zImkVX3oBK7XTyxHAGC39OL69R6ZE0nLbDbjfIPZ7/x8gxlms/85Kc/j80w9F6eeEwUTFsBZ4ovqnYib1weqmaV/2O+s19EPW6i6T3G7nM6p5w7/+68GTp0Glm6L37nNapUxjfQ63W4Mw/+R9mH40Ol2y5iIvizxC36Sqv1nKJGUWABniZAv6D4hAlR/DWBmsv/HTaUaEhAVHS5jGumFz/G/mny8IQFhU8zVQBOpQ1r+fL9zQ4q6H+m3PCcHaSn+P0dpKTG8BnCWC/mCl7QQgS95RCP43TBLCIKA0ClaYGiI+j9VJTlZyDbMmXRWkTtf9XcCzyssQlnFqklnBUWFSMnyX57UYHlpKQoXLJh0llWQj3m5KTInkl7JvDQkJEzcnpBwc0azW2hIKARM/nNUgABtiFbmRESzF+8CnkXCQkMAjw+ez13vFxoiQBeq/gK4euFCWAfcOFhVi7PXWwEA2YY5WFmSjfUL1H9kJT09HQtXLIIuLAQNF+rRa+mBwWDAwuISFKxZExDLiKxetwhunweXG5vQ1ngVkYZ4ZOVlo2xZPkoDYKmbr60vwaDDg+PnTTh3+ebp7iV5BqxalIOvrS9ROB19EUEQEKYJg9PrHHc6WIAAnUan+rMoRFISRF4Ucdtm6mHSXp84etNHaIiAkC86P6wyN27cQF37zTsqE8IREMu/jGUymdDX1o4QjQCtFihZPvlRQTWrPnQCDn0oQjwi0jJTA6LcjnXu2jV0dwwBABJT9FiSlaVwIvqyPD7PzWv+BCBUCGX5o3Fm6vVbTVgAp4FfQEREROrD129eA0hEREQUdFgAiYiIiIIMCyARERFRkGEBJCIiIgoyXAaGZGUymXC5qwOW9g64HG6kpCYhOSMKy/LKlY4mmcOHqtAx2I9u6xASY/RIiZqDdRuWKh1LMtXV1TB3OdDS0Qt9hBbZaQlYt3qZ0rEk43K50N47hKHhm09u0YeHIzVeD51Op3AyIiLpsACSbEwmE842XMSfjx6Hxe4Y3X5nQT5Ch/VYEgDryO0/cgIHj55BU3P36LbczES4dE78zeoVCiaTxomTl/DekQs4U980us1g0KOl04aHv7lewWTSsNuduNxmwbDrs8UR+u2D6LXZkZdmQGRkmILpiIikw1PAJJsmsxmv/vXguPIHAEcaGlFVe0GhVNI5U1uHw580jCt/ANDU3I0Tx6/i1KlTCiWTzom6+nHlDwAsliEcOHEKB4+dViiVdFp7B8aVvxHDLhGtvQMKJCIimhksgCSb1vYuv7Oapsuorq6WMY30WtqsuNR4ddLZycZL6B5W90K0R47Xof7ijUlnFssQzG29MieSlsvlQp/N5XfeZ3PB5fI/JyJSExZAkk2ntc/vrGfIjkGVP/HE6Ryecu5yuGVKMjNEcRgdlh6/c5vdLmMa6bndIqZaFl8Ub/4ZIqJAwAJIsslITvI7M6YlIkKv7qMrEbHhfmcJhgjERWpkTCO9yEgN8rP8fw6TE+JlTCO9yMgwhGn9/xISphV4DSARBQwWQJJNXn4+8hMNk85KcwtUfydwWY4Ra0oLJ50tKsxBRurk+64Wy0tLUVKYO+msMD8LeVnq3j8AiI+JvK0ZEZHa8C5gks0dRcXotQ7AcOYcGm+0wGJ3ID/RgFXLlqC8uETpeNOWnp6OlYX5CI0OwYX6DnRZupFkSERZ4TysXJqNnJwcpSNO290ri+B1AfVNTWi81gWDQY/8eUasLs1FWQDcxW1MmQOvz4uuPgdGTvYKAJLiImBMmaNkNCIiSQmiONVVLzQVPkz69pjNZpja2gAAcWFhKC0tVTiR9A4fOwmfVoMwdzhWrVZ/Mfq8s7V1sA954HN7MD8zCUajUelIkrLbnRgYunm3eqw+gqd+iQIMX79ZAKeFX0BERETqw9dvXgNIREREFHRYAImIiIiCDAsgERERUZBhASQiIiIKMlwGhmRlMplQ29eHK90WDDlcyEo0oCg+AqVFgXMn8MeHPkZ3Xw+sfb2IiYtHYlwCVmxYoXQsyVTfuIELTX1o7rAhIkKL4qxYbFyUp3QsolEerw8enwifKCJEEBAaIiBUw+MdRGOxAJJsTCYT3r9+DW8cP40eh3N0+z35C+ERtVherP7lUj54932c+OQTXLlyfXRbdvY8DIl23HXXV5QLJpFj9c3Ye/QczlzpH90WdxZoarHisa+VKZiM6Canxwu397PFLXyiCI9PRKhPRLhW3U/jIZISCyDJpq69Ey8cPDZh+18aLyI2NkL1BbC2tm5C+QOAK1euQ6+PREx0DJaXq/tpJ+9XmcaVPwDocwB/PFmPtAQ97q1YqFAyIsDnE8eVv7E8PhFenwiNyp85TiQVHhMn2dR2WfzOqq604HR1tYxppNdhbp1Q/kbU1dVjcNAmbyCJHatvRl1L56SzPgdwtdMucyKi8dw+39Rz79RzomDCAkiysQ0O+51ZhgZg06r7gLTD6Z5y7hnyyJRkZjg8w2judfmdD1oHZUxDNBEfa0B061gASTbJif5XW89PS0KUzyFjGulFzgn3OzMY4hExJ0rGNNKb4w1DdoL/5+EaEuNkTEM00Red3g0RePqXaAQLIMnmjiwj8hOSJp2VZWehfJG6r48rKFiAiorlk85KioqRmpoicyJpLS81Yn3J3ElnSzLnYNnceJkTEY0XGiLAX8UTAGg1LIBEI9R9zo1UZfWChegetON43RWcbL6CHocT+QlJ2Fiaj6/l5Codb9rS09Oxev0ahOm0qK9vRLfFgkSDAcVFhShbuQw5OTlKR5y2ry9OwbBHxMcX23Clpx9xEcCStCTcvTIby0sylY5HQU4QBIRrNRh2ezH2bLAAIFyrgcAjgESjBFHkVRO3iw+Tvj1msxmNNgvcDg0SNT4sLw2cNQBHHDt2HKHaUIh2X0CtATjidG0zLA4HQsMF5M8Jg9FoVDoS0Tgerw8+ERAEQMs1AOlz+PrNAjgt/AIiIiJSH75+8xpAIiIioqDDAkhEREQUZFgAiYiIiIIMCyARERFRkAnaZWCefvppPPPMM+O2JScno6OjQ6FEwcFkMqG2bwDN3TfgcDhhTEpGQWQ0SgPoTuDjxy6hpacVFpsdhuhIJMckY/16dT/neKzeQRcsg0OwDXsQGhKCxCgd0uLVvcg1EVGwCdoCCACFhYX48MMPR9/XaDQKpgl8JpMJf264gHfPnEWP47PHot2dn48+rQYbihcpmE4ab793HJUnT6Pxevfotvx5ibCGDOAbd65SMJk0OgcG0dRhh3d0ixf9Djcsgy6UZHIhaCIitQjqAhgaGoqUFHU/nUFNajva8VrlyQnb329sRPycSNUXwKraugnlDwAar3dD+OQSUiO0KC9X79NOXC4XrlkcY8rfZ/ocbrR0DyIjkUcCiYjUIKivAWxqakJaWhqysrLwwAMP4OrVq1P+eafTCavVOu6Nbl1jZ7vfWdUVM85UV8uYRnrNrQMTyt+IhoarsKj7Ucfoc7jg9Pj8znsdLhnTEBHRdARtASwvL8fevXtx4MAB/OY3v0FHRwdWrFiBnp4ev39nx44diI2NHX3LyMiQMbH69duG/c4s9gFYteo+BT/s9L9/AOByuGVKMjO8kx36G8Pt9V8OiYhodgnaArhp0ybcd999KC4uxl133YW//OUvAIA9e/b4/TtPPvkkBgYGRt9aWlrkihsQUpNi/c7y0pIQNTR1gZrtUhL0fmcJBj3io9T97Rau00051+vUvX9ERMGEP7E/FRkZieLiYjQ1Nfn9M2FhYYiJiRn3RrduaVYO8g0Jk87KcnJVfX0cAMzPnIs160omnS0rXoi5qUkyJ5JWfJQOcRHaSWchAFJief0fEZFaBPVNIGM5nU5cunQJq1evVjpKwFq9oBDdg8P4pLYWZ5qvoMfhQUV2GpZkZ+NvchYqHW/ajEYjvlJqhR46VNVdQ7elB4mGBCwtzsLK0jzk5OQoHXHaClKicKljEP1jTmfrNCEwxkcgPmrqI4RERDR7CKIoikqHUMIPf/hDbN68GZmZmejq6sKzzz6Lo0ePoq6uDkaj8ZY+Bh8mfXvMZjOabD1wOgQkaUQsC6A1AEccP3YJgtYG51BEQK0BOKJ30AX7sAuaEMAQpYPuC04PExHNJnz9DuIjgDdu3MCDDz4Ii8WCxMRE3HHHHTh58uQtlz+6fUajEUYE9v/nVasXKB1hRsVH6XjEj4hIxYK2AO7bt0/pCERERESK4E0gREREREGGBZCIiIgoyLAAEhEREQWZoL0GkJRhMplQ2z8EU1crHA4PspLiUBSpR2kA3Ql8tbkNba0WuNwu6PXhSEyKR3ZmmtKxiIiIRrEAkmxMJhPeutyE/Weq0TPmubFfzc9Hn1aLDcXqXy6lprYBDVdaMfpQtJ4B3GjthsM2iKLCPCWjERERjeIpYJJNbXsnXq08Oa78AcBfGxtx5PIVhVJJp7WtG6Zr7fj8E3FdPh8ar7ahs7tPkVxERESfxwJIsjnX1e13dv5qM07X1cmYRnrdlh64fJ+vfzc5PV5Yui0yJyIiIpocCyDJxmF3+J1ZhmywyZhlJgy7PFPO3R6vTEmIiIimxgJIskkyzPE7y880ImpoSMY00ouOipxyro+cek5ERCQXFkCSTUXWPOQnJEw6W5qZivLycnkDSSxzrgEJ0fpJZ4aYKKQm+S/AREREcuJdwCSb1QsWoNvuxrG6CzjVfA09DhdWZGegbH5TGZV2AAAPsUlEQVQWvpaTo3S8aYuOjkbRwhzUX7qKXusgfLj5G1ZSQizycoyIjo5WOiIREREAQBBFUVQ6hFpZrVbExsZiYGAAMTExSsdRDbPZjIZBKzwOEYkhHiwPoDUAR1xpboNr2AldeBjXACQimmX4+s0jgKQAo9EIo9IhZhhLHxERzWa8BpCIiIgoyLAAEhEREQUZFkAiIiKiIMMCSERERBRkeBMIycpkMqGxvxs3ulrhcTiRmpSMrDnxWFIcOHcCi243RI8HEEUgJARCaCiEUH6rERHR7MFXJZKNyWTCocs1OHDmFHocnz0WbkV+PmwA1gRACfQ5nRDdYx4J5/NC9Hgh6HwI0emUC0ZERDQGTwGTbC53NOONyiPjyh8AfNzYiJrLdQqlko7o9Y4vf2NnLjdEn0/mRERERJNjASTZmDpb/M4uXL2GqrpaGdNIT/RMXv5udU5ERCQXFkCSTb990O/MMmSHHSovSF/0UB0+dIeIiGYJFkCSjXFuht9ZfmYmwr1uGdNITwiZ+tvpi+ZERERy4SsSySY3bR7yEwyTzgoz52P54nKZE0lMq4UgTD4SBAC8E5iIiGYJviKRbFYsKEGf3Y6quirUNJvR43BgefZ8LJqfjzuM+UrHmzZBEIDwcGB4eNzZXiFEgBAefnNOREQ0C7AAkqzuKatAUWIa1gx2wu7wIiVEh6WlS5WOJRlBo4EQGXnzhg+fb3QdQCIiotmEr0wkO6PRCCOMSseYUSx9REQ0m/EaQCIiIqIgwwJIREREFGRYAImIiIiCDAsgERERUZDhleokK7fLBYvNhp5BOwAgMjwcydEx0OvDFU5GREQUPFgASTZulwuXOzpgd7pGtw25XOixWjEvOQmGmBgF0xEREQUPngIm2XT0D4wrfyN8AFp7euUPREREFKRYAEk2vXa735nT48HA4JCMaYiIiIIXCyDJRvR5p5y7fR6ZkhAREQU3FkCSTURYhN9ZCAB9qE6+MEREREGMBZBkkxAT5Xc2JzKKdwITERHJhAWQZGOIiUFGfBxChM+2CQDiI6NgNMQrlouIiCjYcBkYklVqQgIM0dGjN4REh0XwyB8REZHMWABJdlqdDsk6Xu9HRESkFJ4CJiIiIgoyLIBEREREQYYFkIiIiCjIsAASERERBRkWQCIiIqIgwwJIREREFGRYAImIiIiCDAsgERERUZBhASQiIiIKMiyAREREREGGj4KbBlEUAQBWq1XhJERERHSrRl63R17HgxEL4DTYbDYAQEZGhsJJiIiI6Muy2WyIjY1VOoYiBDGY6+80+Xw+tLW1ITo6GoIgSPqxrVYrMjIy0NLSgpiYGEk/9mzA/VO/QN9H7p/6Bfo+cv9unyiKsNlsSEtLQ0hIcF4NxyOA0xASEoL09PQZ/TdiYmIC8ht7BPdP/QJ9H7l/6hfo+8j9uz3BeuRvRHDWXiIiIqIgxgJIREREFGQ0Tz/99NNKh6DJaTQa3HnnnQgNDcwz9dw/9Qv0feT+qV+g7yP3j24XbwIhIiIiCjI8BUxEREQUZFgAiYiIiIIMCyARERFRkGEBJCIiIgoyLICz0P/8z/8gKysL4eHhWLp0KY4dO6Z0JMlUVlZi8+bNSEtLgyAI2L9/v9KRJLVjxw4sW7YM0dHRSEpKwje+8Q00NjYqHUsyL7/8MkpKSkYXZq2oqMB7772ndKwZs2PHDgiCgMcff1zpKJJ5+umnIQjCuLeUlBSlY0mqtbUVDz30EBISEqDX67F48WJUVVUpHUsy8+bNm/A5FAQBjz32mNLRJOHxePAv//IvyMrKQkREBObPn4+f//zn8Pl8SkcLKCyAs8wf/vAHPP7443jqqadw7tw5rF69Gps2bUJzc7PS0SRht9uxaNEivPjii0pHmRFHjx7FY489hpMnT+LgwYPweDzYuHEj7Ha70tEkkZ6ejn//93/H2bNncfbsWaxfvx5f//rXUV9fr3Q0yZ05cwa7du1CSUmJ0lEkV1hYiPb29tG3uro6pSNJpq+vDytXroRWq8V7772Hixcv4j/+4z8wZ84cpaNJ5syZM+M+fwcPHgQA3H///Qonk8YvfvEL/PrXv8aLL76IS5cuYefOnfjlL3+JF154QelogUWkWWX58uXio48+Om5bQUGB+JOf/EShRDMHgPj2228rHWNGdXV1iQDEo0ePKh1lxsTFxYm//e1vlY4hKZvNJubm5ooHDx4U165dK27fvl3pSJL52c9+Ji5atEjpGDPmxz/+sbhq1SqlY8hq+/btYnZ2tujz+ZSOIol77rlH3LZt27htW7ZsER966CGFEgUmHgGcRVwuF6qqqrBx48Zx2zdu3IiPP/5YoVQ0HQMDAwCA+Ph4hZNIz+v1Yt++fbDb7aioqFA6jqQee+wx3HPPPbjrrruUjjIjmpqakJaWhqysLDzwwAO4evWq0pEk884776CsrAz3338/kpKSsGTJEvzmN79ROtaMcblc+P3vf49t27ZBEASl40hi1apVOHToEC5fvgwAOH/+PI4fP46vfvWrCicLLFxaexaxWCzwer1ITk4etz05ORkdHR0KpaLbJYoinnjiCaxatQpFRUVKx5FMXV0dKioqMDw8jKioKLz99ttYuHCh0rEks2/fPlRVVeHs2bNKR5kR5eXl2Lt3L/Ly8tDZ2Ylnn30WK1asQH19PRISEpSON21Xr17Fyy+/jCeeeAI//elPcfr0afzgBz9AWFgYHn74YaXjSW7//v3o7+/H3//93ysdRTI//vGPMTAwgIKCAmg0Gni9Xjz33HN48MEHlY4WUFgAZ6HP/xYnimLA/GYXTL7//e+jtrYWx48fVzqKpPLz81FTU4P+/n786U9/wtatW3H06NGAKIEtLS3Yvn07PvjgA4SHhysdZ0Zs2rRp9L+Li4tRUVGB7Oxs7NmzB0888YSCyaTh8/lQVlaG559/HgCwZMkS1NfX4+WXXw7IAvjqq69i06ZNSEtLUzqKZP7whz/g97//Pd544w0UFhaipqYGjz/+ONLS0rB161al4wUMFsBZxGAwQKPRTDja19XVNeGoIM1u//iP/4h33nkHlZWVSE9PVzqOpHQ6HXJycgAAZWVlOHPmDP7rv/4Lr7zyisLJpq+qqgpdXV1YunTp6Dav14vKykq8+OKLcDqd0Gg0CiaUXmRkJIqLi9HU1KR0FEmkpqZO+GVkwYIF+NOf/qRQopljNpvx4Ycf4q233lI6iqR+9KMf4Sc/+QkeeOABADd/UTGbzdixYwcLoIR4DeAsotPpsHTp0tE7ukYcPHgQK1asUCgVfRmiKOL73/8+3nrrLXz00UfIyspSOtKME0URTqdT6RiS2LBhA+rq6lBTUzP6VlZWhr/7u79DTU1NwJU/AHA6nbh06RJSU1OVjiKJlStXTlh66fLlyzAajQolmjm7d+9GUlIS7rnnHqWjSGpoaAghIePriUaj4TIwEuMRwFnmiSeewHe+8x2UlZWhoqICu3btQnNzMx599FGlo0licHAQJpNp9P1r166hpqYG8fHxyMzMVDCZNB577DG88cYb+POf/4zo6OjRo7mxsbGIiIhQON30/fSnP8WmTZuQkZEBm82Gffv24ciRI3j//feVjiaJ6OjoCddrRkZGIiEhIWCu4/zhD3+IzZs3IzMzE11dXXj22WdhtVoD5sjKP/3TP2HFihV4/vnn8a1vfQunT5/Grl27sGvXLqWjScrn82H37t3YunUrQkMD66V88+bNeO6555CZmYnCwkKcO3cOv/rVr7Bt2zalowUWZW9Cpsm89NJLotFoFHU6nVhaWhpQS4gcPnxYBDDhbevWrUpHk8Rk+wZA3L17t9LRJLFt27bRr83ExERxw4YN4gcffKB0rBkVaMvA/O3f/q2YmpoqarVaMS0tTdyyZYtYX1+vdCxJvfvuu2JRUZEYFhYmFhQUiLt27VI6kuQOHDggAhAbGxuVjiI5q9Uqbt++XczMzBTDw8PF+fPni0899ZTodDqVjhZQBFEURWWqJxEREREpgdcAEhEREQUZFkAiIiKiIMMCSERERBRkWACJiIiIggwLIBEREVGQYQEkIiIiCjIsgERERERBhgWQiIKGIAjYv3//jP4b169fhyAIqKmpAQAcOXIEgiCgv79/Rv9dIqIvgwWQiGiMw4cPY926dYiPj4der0dubi62bt0Kj8ejdDQiIsmwABIRfaq+vh6bNm3CsmXLUFlZibq6OrzwwgvQarV8ED0RBRQWQCIKGHfeeSd+8IMf4J//+Z8RHx+PlJQUPP300+P+THt7OzZt2oSIiAhkZWXhzTffHJ0dPHgQqamp2LlzJ4qKipCdnY27774bv/3tb6HT6WC32xETE4M//vGP4z7mu+++i8jISNhsNjl2k4ho2lgAiSig7NmzB5GRkTh16hR27tyJn//85zh48ODo/F//9V9x33334fz583jooYfw4IMP4tKlSwCAlJQUtLe3o7KyctKPHRkZiQceeAC7d+8et3337t345je/iejo6JnbMSIiCbEAElFAKSkpwc9+9jPk5ubi4YcfRllZGQ4dOjQ6v//++/HII48gLy8P//Zv/4aysjK88MILo7MHH3wQa9euRWpqKu699168+OKLsFqto3//kUcewYEDB9DW1gYAsFgs+L//+z9s27ZN3h0lIpoGFkAiCiglJSXj3k9NTUVXV9fo+xUVFePmFRUVo0cANRoNdu/ejRs3bmDnzp1IS0vDc889h8LCQrS3twMAli9fjsLCQuzduxcA8Lvf/Q6ZmZlYs2bNTO4WEZGkWACJKKBotdpx7wuC8IU3cAiCMO79uXPn4jvf+Q5eeuklXLx4EcPDw/j1r389On/kkUdGTwPv3r0b3/3udyd8DCKi2YwFkIiCysmTJye8X1BQ4PfPx8XFITU1FXa7fXTbQw89hObmZvz3f/836uvrsXXr1hnLS0Q0E0KVDkBEJKc333wTZWVlWLVqFV5//XWcPn0ar776KgDglVdeQU1NDe69915kZ2djeHgYe/fuRX19/eh1gsDNUrhlyxb86Ec/wsaNG5Genq7U7hAR3RYeASSioPLMM89g3759KCkpwZ49e/D6669j4cKFAG5e3zc4OIhHH30UhYWFWLt2LU6ePIn9+/dj7dq14z7OP/zDP8DlcvHmDyJSJUEURVHpEEREavP6669j+/btaGtrg06nUzoOEdGXwlPARERfwtDQEK5du4YdO3bge9/7HssfEakSTwETEX0JO3fuxOLFi5GcnIwnn3xS6ThERLeFp4CJiIiIggyPABIREREFGRZAIiIioiDDAkhEREQUZFgAiYiIiIIMCyARERFRkGEBJCIiIgoyLIBEREREQYYFkIiIiCjIsAASERERBZn/DzImiroREHShAAAAAElFTkSuQmCC' width=640.0/>\n",
       "            </div>\n",
       "        "
      ],
      "text/plain": [
       "Canvas(toolbar=Toolbar(toolitems=[('Home', 'Reset original view', 'home', 'home'), ('Back', 'Back to previous …"
      ]
     },
     "metadata": {},
     "output_type": "display_data"
    }
   ],
   "source": [
    "%matplotlib ipympl\n",
    "\n",
    "plt.figure(\"scatter plot view\")\n",
    "sns.scatterplot(data=dfDicoBuch, x=\"nbSyll\", y=\"sizePron\", hue=\"POS\", alpha=0.05)"
   ]
  },
  {
   "cell_type": "markdown",
   "metadata": {},
   "source": [
    "## Manipuler des matrices de format exotique"
   ]
  },
  {
   "cell_type": "code",
   "execution_count": 32,
   "metadata": {},
   "outputs": [
    {
     "data": {
      "text/html": [
       "<div>\n",
       "<style scoped>\n",
       "    .dataframe tbody tr th:only-of-type {\n",
       "        vertical-align: middle;\n",
       "    }\n",
       "\n",
       "    .dataframe tbody tr th {\n",
       "        vertical-align: top;\n",
       "    }\n",
       "\n",
       "    .dataframe thead th {\n",
       "        text-align: right;\n",
       "    }\n",
       "</style>\n",
       "<table border=\"1\" class=\"dataframe\">\n",
       "  <thead>\n",
       "    <tr style=\"text-align: right;\">\n",
       "      <th></th>\n",
       "      <th>hwd</th>\n",
       "      <th>pronSampa</th>\n",
       "    </tr>\n",
       "  </thead>\n",
       "  <tbody>\n",
       "    <tr>\n",
       "      <td>0</td>\n",
       "      <td>a</td>\n",
       "      <td>@</td>\n",
       "    </tr>\n",
       "    <tr>\n",
       "      <td>1</td>\n",
       "      <td>a(2)</td>\n",
       "      <td>eI</td>\n",
       "    </tr>\n",
       "    <tr>\n",
       "      <td>2</td>\n",
       "      <td>a'ready</td>\n",
       "      <td>@ r\\ E d i:</td>\n",
       "    </tr>\n",
       "    <tr>\n",
       "      <td>3</td>\n",
       "      <td>a's</td>\n",
       "      <td>eI z</td>\n",
       "    </tr>\n",
       "    <tr>\n",
       "      <td>4</td>\n",
       "      <td>a.</td>\n",
       "      <td>eI</td>\n",
       "    </tr>\n",
       "  </tbody>\n",
       "</table>\n",
       "</div>"
      ],
      "text/plain": [
       "       hwd    pronSampa\n",
       "0        a            @\n",
       "1     a(2)           eI\n",
       "2  a'ready  @ r\\ E d i:\n",
       "3      a's         eI z\n",
       "4       a.           eI"
      ]
     },
     "execution_count": 32,
     "metadata": {},
     "output_type": "execute_result"
    }
   ],
   "source": [
    "cheminDuDicoBigi = \"./../data/dictionary/2015_Bigi-B.dict\" \n",
    "\n",
    "# ouvrir une matric exotique\n",
    "#dfDicoBigi = pd.read_csv(cheminDuDicoBigi, delimiter=\" [] \", encoding=\"utf8\")\n",
    "\n",
    "dfDicoBigi = pd.read_csv(cheminDuDicoBigi, delimiter=\" \\[\\] \", encoding=\"utf8\", engine='python', names=['hwd','pronSampa'], skiprows=8 )\n",
    "\n",
    "# afficher à l'écran un échantillon du tableau\n",
    "dfDicoBigi.head(n=5)"
   ]
  },
  {
   "cell_type": "markdown",
   "metadata": {},
   "source": [
    "Intro/rappel Regex : https://gitlab.huma-num.fr/mnauge/cnam-athon-transcrire/-/blob/master/codes/regexBasics.ipynb"
   ]
  },
  {
   "cell_type": "markdown",
   "metadata": {},
   "source": [
    "## Jouer avec deux matrices à la fois"
   ]
  },
  {
   "cell_type": "code",
   "execution_count": 33,
   "metadata": {},
   "outputs": [
    {
     "data": {
      "text/html": [
       "<div>\n",
       "<style scoped>\n",
       "    .dataframe tbody tr th:only-of-type {\n",
       "        vertical-align: middle;\n",
       "    }\n",
       "\n",
       "    .dataframe tbody tr th {\n",
       "        vertical-align: top;\n",
       "    }\n",
       "\n",
       "    .dataframe thead th {\n",
       "        text-align: right;\n",
       "    }\n",
       "</style>\n",
       "<table border=\"1\" class=\"dataframe\">\n",
       "  <thead>\n",
       "    <tr style=\"text-align: right;\">\n",
       "      <th></th>\n",
       "      <th>sampa</th>\n",
       "      <th>ipa</th>\n",
       "    </tr>\n",
       "  </thead>\n",
       "  <tbody>\n",
       "    <tr>\n",
       "      <td>46</td>\n",
       "      <td>I</td>\n",
       "      <td>ɪ</td>\n",
       "    </tr>\n",
       "    <tr>\n",
       "      <td>53</td>\n",
       "      <td>K\\</td>\n",
       "      <td>ɮ</td>\n",
       "    </tr>\n",
       "    <tr>\n",
       "      <td>107</td>\n",
       "      <td>_k</td>\n",
       "      <td>̰</td>\n",
       "    </tr>\n",
       "  </tbody>\n",
       "</table>\n",
       "</div>"
      ],
      "text/plain": [
       "    sampa ipa\n",
       "46      I   ɪ\n",
       "53     K\\   ɮ\n",
       "107    _k   ̰"
      ]
     },
     "execution_count": 33,
     "metadata": {},
     "output_type": "execute_result"
    }
   ],
   "source": [
    "cheminDuMappingSampaIpa = \"./../data/dictionary/sampa-ipa.txt\" \n",
    "dfMappingSampaIpa = pd.read_csv(cheminDuMappingSampaIpa, delimiter=\"  *\", encoding=\"utf8\", engine='python', names=['sampa','ipa'])\n",
    "dfMappingSampaIpa.sample(n=3)"
   ]
  },
  {
   "cell_type": "code",
   "execution_count": 34,
   "metadata": {},
   "outputs": [
    {
     "data": {
      "text/plain": [
       "r      3\n",
       "U~/    2\n",
       "h      2\n",
       "@      2\n",
       "g      2\n",
       "      ..\n",
       "_x     1\n",
       "_R     1\n",
       "y      1\n",
       "O:     1\n",
       "_e     1\n",
       "Name: sampa, Length: 177, dtype: int64"
      ]
     },
     "execution_count": 34,
     "metadata": {},
     "output_type": "execute_result"
    }
   ],
   "source": [
    "dfMappingSampaIpa['sampa'].value_counts()"
   ]
  },
  {
   "cell_type": "code",
   "execution_count": 35,
   "metadata": {},
   "outputs": [
    {
     "data": {
      "text/html": [
       "<div>\n",
       "<style scoped>\n",
       "    .dataframe tbody tr th:only-of-type {\n",
       "        vertical-align: middle;\n",
       "    }\n",
       "\n",
       "    .dataframe tbody tr th {\n",
       "        vertical-align: top;\n",
       "    }\n",
       "\n",
       "    .dataframe thead th {\n",
       "        text-align: right;\n",
       "    }\n",
       "</style>\n",
       "<table border=\"1\" class=\"dataframe\">\n",
       "  <thead>\n",
       "    <tr style=\"text-align: right;\">\n",
       "      <th></th>\n",
       "      <th>sampa</th>\n",
       "      <th>ipa</th>\n",
       "    </tr>\n",
       "  </thead>\n",
       "  <tbody>\n",
       "    <tr>\n",
       "      <td>28</td>\n",
       "      <td>@</td>\n",
       "      <td>ə</td>\n",
       "    </tr>\n",
       "    <tr>\n",
       "      <td>29</td>\n",
       "      <td>@</td>\n",
       "      <td>ɛ</td>\n",
       "    </tr>\n",
       "  </tbody>\n",
       "</table>\n",
       "</div>"
      ],
      "text/plain": [
       "   sampa ipa\n",
       "28     @   ə\n",
       "29     @   ɛ"
      ]
     },
     "execution_count": 35,
     "metadata": {},
     "output_type": "execute_result"
    }
   ],
   "source": [
    "dfMappingSampaIpa[dfMappingSampaIpa['sampa']=='@']"
   ]
  },
  {
   "cell_type": "code",
   "execution_count": 36,
   "metadata": {},
   "outputs": [],
   "source": [
    "# ne garder que la première occurence pour éviter une indécision mais ce n'est pas terrible. A discuter avec les linguistes.\n",
    "dfMappingSampaIpa.drop_duplicates(subset=['sampa'], keep='first', inplace=True)"
   ]
  },
  {
   "cell_type": "code",
   "execution_count": 37,
   "metadata": {},
   "outputs": [
    {
     "data": {
      "text/html": [
       "<div>\n",
       "<style scoped>\n",
       "    .dataframe tbody tr th:only-of-type {\n",
       "        vertical-align: middle;\n",
       "    }\n",
       "\n",
       "    .dataframe tbody tr th {\n",
       "        vertical-align: top;\n",
       "    }\n",
       "\n",
       "    .dataframe thead th {\n",
       "        text-align: right;\n",
       "    }\n",
       "</style>\n",
       "<table border=\"1\" class=\"dataframe\">\n",
       "  <thead>\n",
       "    <tr style=\"text-align: right;\">\n",
       "      <th></th>\n",
       "      <th>sampa</th>\n",
       "      <th>ipa</th>\n",
       "    </tr>\n",
       "  </thead>\n",
       "  <tbody>\n",
       "    <tr>\n",
       "      <td>28</td>\n",
       "      <td>@</td>\n",
       "      <td>ə</td>\n",
       "    </tr>\n",
       "  </tbody>\n",
       "</table>\n",
       "</div>"
      ],
      "text/plain": [
       "   sampa ipa\n",
       "28     @   ə"
      ]
     },
     "execution_count": 37,
     "metadata": {},
     "output_type": "execute_result"
    }
   ],
   "source": [
    "dfMappingSampaIpa[dfMappingSampaIpa['sampa']=='@']"
   ]
  },
  {
   "cell_type": "code",
   "execution_count": 38,
   "metadata": {},
   "outputs": [],
   "source": [
    "def sampa2ipa(strSampa, dfMapping):\n",
    "    ipaRes = \"\"\n",
    "    \n",
    "    listValSampa = strSampa.split(\" \")\n",
    "    #print(listValSampa)\n",
    "    for valSampa in listValSampa:\n",
    "        dfRowFinded = dfMapping[dfMapping['sampa']==valSampa]\n",
    "\n",
    "        if len(dfRowFinded==1):\n",
    "            ipaRes+=dfRowFinded.iloc[0]['ipa']\n",
    "        else:\n",
    "            ipaRes+='?'\n",
    "    return ipaRes"
   ]
  },
  {
   "cell_type": "code",
   "execution_count": 39,
   "metadata": {},
   "outputs": [
    {
     "data": {
      "text/plain": [
       "'ɑɹti'"
      ]
     },
     "execution_count": 39,
     "metadata": {},
     "output_type": "execute_result"
    }
   ],
   "source": [
    "sampa2ipa(\"A r\\ t i\",dfMappingSampaIpa)"
   ]
  },
  {
   "cell_type": "code",
   "execution_count": 40,
   "metadata": {},
   "outputs": [],
   "source": [
    "dfDicoBigiRich = dfDicoBigi.copy()\n",
    "\n",
    "dfDicoBigiRich['ipa'] = dfDicoBigiRich.apply(lambda x: sampa2ipa(x['pronSampa'], dfMappingSampaIpa),1)\n"
   ]
  },
  {
   "cell_type": "code",
   "execution_count": 41,
   "metadata": {},
   "outputs": [
    {
     "data": {
      "text/html": [
       "<div>\n",
       "<style scoped>\n",
       "    .dataframe tbody tr th:only-of-type {\n",
       "        vertical-align: middle;\n",
       "    }\n",
       "\n",
       "    .dataframe tbody tr th {\n",
       "        vertical-align: top;\n",
       "    }\n",
       "\n",
       "    .dataframe thead th {\n",
       "        text-align: right;\n",
       "    }\n",
       "</style>\n",
       "<table border=\"1\" class=\"dataframe\">\n",
       "  <thead>\n",
       "    <tr style=\"text-align: right;\">\n",
       "      <th></th>\n",
       "      <th>hwd</th>\n",
       "      <th>pronSampa</th>\n",
       "      <th>ipa</th>\n",
       "    </tr>\n",
       "  </thead>\n",
       "  <tbody>\n",
       "    <tr>\n",
       "      <td>116831</td>\n",
       "      <td>tenths</td>\n",
       "      <td>t E n T s</td>\n",
       "      <td>tɛnθs</td>\n",
       "    </tr>\n",
       "    <tr>\n",
       "      <td>111773</td>\n",
       "      <td>state</td>\n",
       "      <td>s t eI t</td>\n",
       "      <td>st?t</td>\n",
       "    </tr>\n",
       "    <tr>\n",
       "      <td>73894</td>\n",
       "      <td>mccain</td>\n",
       "      <td>m @ k eI n</td>\n",
       "      <td>mək?n</td>\n",
       "    </tr>\n",
       "    <tr>\n",
       "      <td>76346</td>\n",
       "      <td>micronesia</td>\n",
       "      <td>m aI k r\\ @U n i: Z @</td>\n",
       "      <td>m?kɹoʊniːʒə</td>\n",
       "    </tr>\n",
       "    <tr>\n",
       "      <td>22000</td>\n",
       "      <td>colgan</td>\n",
       "      <td>k @U l g @ n</td>\n",
       "      <td>koʊlgən</td>\n",
       "    </tr>\n",
       "  </tbody>\n",
       "</table>\n",
       "</div>"
      ],
      "text/plain": [
       "               hwd              pronSampa          ipa\n",
       "116831      tenths              t E n T s        tɛnθs\n",
       "111773       state               s t eI t         st?t\n",
       "73894       mccain             m @ k eI n        mək?n\n",
       "76346   micronesia  m aI k r\\ @U n i: Z @  m?kɹoʊniːʒə\n",
       "22000       colgan           k @U l g @ n      koʊlgən"
      ]
     },
     "execution_count": 41,
     "metadata": {},
     "output_type": "execute_result"
    }
   ],
   "source": [
    "dfDicoBigiRich.sample(n=5)"
   ]
  },
  {
   "cell_type": "markdown",
   "metadata": {},
   "source": [
    "### Sauvegarder la nouvelle matrice\n"
   ]
  },
  {
   "cell_type": "code",
   "execution_count": 42,
   "metadata": {},
   "outputs": [],
   "source": [
    "pathDicoBigiRich = \"./../data/dataframe/BigiRichSample.csv\"\n",
    "dfDicoBigiRich.to_csv(pathDicoBigiRich, sep=\";\",encoding=\"utf8\",index=False)"
   ]
  },
  {
   "cell_type": "code",
   "execution_count": null,
   "metadata": {},
   "outputs": [],
   "source": []
  }
 ],
 "metadata": {
  "kernelspec": {
   "display_name": "Python 3",
   "language": "python",
   "name": "python3"
  },
  "language_info": {
   "codemirror_mode": {
    "name": "ipython",
    "version": 3
   },
   "file_extension": ".py",
   "mimetype": "text/x-python",
   "name": "python",
   "nbconvert_exporter": "python",
   "pygments_lexer": "ipython3",
   "version": "3.7.4"
  }
 },
 "nbformat": 4,
 "nbformat_minor": 4
}
