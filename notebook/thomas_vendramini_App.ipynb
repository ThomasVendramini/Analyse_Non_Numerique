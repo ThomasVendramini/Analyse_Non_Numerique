{
 "cells": [
  {
   "cell_type": "markdown",
   "metadata": {},
   "source": [
    "# Application\n",
    "\n",
    "*Thomas VENDRAMINI*"
   ]
  },
  {
   "cell_type": "code",
   "execution_count": 35,
   "metadata": {},
   "outputs": [],
   "source": [
    "import pandas as pd\n",
    "\n",
    "# pour pouvoir acceder a la fonction de scrapping\n",
    "%run thomas_vendramini_scrapping.ipynb\n",
    "\n",
    "\n",
    "# préciser le chemin du fichier à lire\n",
    "cheminDuFichierCSV = \"./../data/dataframe/BuchananRich.csv\"\n",
    "\n",
    "\n",
    "# Importer la base base\n",
    "data = pd.read_csv(cheminDuFichierCSV, delimiter=\";\", encoding=\"utf8\")\n",
    "\n",
    "# import necessaire à la création des widgets\n",
    "from IPython.display import display, clear_output, HTML, Markdown \n",
    "import IPython.display as ipd\n",
    "import ipywidgets as widgets\n",
    "\n",
    "\n",
    "\n"
   ]
  },
  {
   "cell_type": "code",
   "execution_count": 68,
   "metadata": {
    "scrolled": true
   },
   "outputs": [
    {
     "data": {
      "application/vnd.jupyter.widget-view+json": {
       "model_id": "c59e2c478e7443a59c9208cff250d5c7",
       "version_major": 2,
       "version_minor": 0
      },
      "text/plain": [
       "VBox(children=(HBox(children=(Text(value='', description='hwd', layout=Layout(width='150')), Text(value='', de…"
      ]
     },
     "metadata": {},
     "output_type": "display_data"
    }
   ],
   "source": [
    "# definition du widget permettant de taper un texte \n",
    "textTarget = widgets.Text(\n",
    "       value=\"\",\n",
    "       description='hwd',\n",
    "       layout={'width': '150'} ) #Taille de la zone de saisie\n",
    "\n",
    "textPronSampa = widgets.Text(\n",
    "       value=\"\",\n",
    "       description='pronSampa',\n",
    "       layout={'width': '150'} ) #Taille de la zone de saisie\n",
    "\n",
    "textIpa = widgets.Text(\n",
    "       value=\"\",\n",
    "       description='ipa',\n",
    "       layout={'width': '150'} ) #Taille de la zone de saisie\n",
    "\n",
    "\n",
    "\n",
    "# définition du widget button permettant de lancer l'extraction\n",
    "button = widgets.Button(description='Démarrer',width=100)\n",
    "occ = widgets.IntSlider(max=20, value=1,description='nb occ.')\n",
    "\n",
    "# définition du widget permettant l'affichage d'une sortie\n",
    "out = widgets.Output()\n",
    "def filtre(df, hwd, ipa, occ):\n",
    "    return df[(df['motVedette'].str.contains(hwd))&(df['ipa'].str.contains(ipa))].head(occ.value)\n",
    "\n",
    "\n",
    "def on_button_clicked(_):\n",
    "    \n",
    "    tableau =f'\\\n",
    "    <table border=\"1\" class=\"dataframe\">\\\n",
    "        <tr style=\"text-align: right;\">\\\n",
    "          <th style = \"text-align:center\">mot</th>\\\n",
    "          <th style = \"text-align:center\">type</th>\\\n",
    "          <th style = \"text-align:center\">prononciation_uk</th>\\\n",
    "          <th style = \"text-align:center\">url_uk</th>\\\n",
    "          <th style = \"text-align:center\">prononciation_us</th>\\\n",
    "          <th style = \"text-align:center\">url_us</th>\\\n",
    "        </tr>\\\n",
    "    '\n",
    "    \n",
    "    \n",
    "    # récupérer le texte saisi par l'utilisateur\n",
    "    targetWord = textTarget.value \n",
    "    targetWordIpa = textIpa.value\n",
    "    with out:\n",
    "        clear_output()\n",
    "        data_f = data.copy()\n",
    "        if(len(targetWord)>0 or len(targetWordIpa)>0 ):\n",
    "            data_f = filtre(data_f, targetWord, targetWordIpa, occ)\n",
    "        data_f = data_f.drop(['origin','warning', 'remarques', 'POS', 'lineId', 'pageId', 'hwd'],1)\n",
    "        data_f = data_f.reindex(columns=['motVedette','nbSyll','pron','ipa','pronSampa'])\n",
    "        df_liste = pd.DataFrame(columns = [\"mot\",\"type\",\"prononciation_uk\",\"url_uk\",\"prononciation_us\",\"url_us\"])\n",
    "        for i in range(len(data_f)):\n",
    "            df_scrap = scrapper(data_f.reset_index(drop=True).loc[i,'motVedette'])\n",
    "            df_liste = pd.concat([df_liste, df_scrap])\n",
    "            \n",
    "        \n",
    "        for i in range(len(df_liste)):\n",
    "            tableau +=f'\\\n",
    "                <tr style = \"text-align:center\">\\\n",
    "                  <td style = \"text-align:center\">{df_liste.reset_index(drop=True).mot[i]}</td>\\\n",
    "                  <td style = \"text-align:center\">{df_liste.reset_index(drop=True).type[i]}</td>\\\n",
    "                  <td style = \"text-align:center\">{df_liste.reset_index(drop=True).prononciation_uk[i]}</td>\\\n",
    "                  <td style = \"text-align:center\"><audio controls src=\" {df_liste.reset_index(drop=True).url_uk[i]} \"></audio></td>\\\n",
    "                  <td style = \"text-align:center\">{df_liste.reset_index(drop=True).prononciation_us[i]}</td>\\\n",
    "                  <td style = \"text-align:center\"><audio controls src=\"{df_liste.reset_index(drop=True).url_us[i]} \"></audio></td>\\\n",
    "                </tr>'\n",
    "        tableau += \"</table>\"\n",
    "        \n",
    "        test = HTML(df_liste.to_html(index=False))\n",
    "        print(test)\n",
    "        \n",
    "        display(HTML(tableau))\n",
    "        \n",
    "button.on_click(on_button_clicked)\n",
    "\n",
    "# les widgets de filtre input\n",
    "# Objet de type widget layout horizontal\n",
    "vbFiltres = widgets.HBox([textTarget,textIpa,occ , button])\n",
    "\n",
    "# les widgets d'output\n",
    "# Objet de type widget layout vertical\n",
    "vbOuts = widgets.VBox([out])\n",
    "\n",
    "hbAllWidgets = widgets.VBox([vbFiltres,vbOuts])\n",
    "\n",
    "hbAllWidgets\n",
    "\n",
    "\n"
   ]
  }
 ],
 "metadata": {
  "kernelspec": {
   "display_name": "Python 3",
   "language": "python",
   "name": "python3"
  },
  "language_info": {
   "codemirror_mode": {
    "name": "ipython",
    "version": 3
   },
   "file_extension": ".py",
   "mimetype": "text/x-python",
   "name": "python",
   "nbconvert_exporter": "python",
   "pygments_lexer": "ipython3",
   "version": "3.7.4"
  }
 },
 "nbformat": 4,
 "nbformat_minor": 4
}
