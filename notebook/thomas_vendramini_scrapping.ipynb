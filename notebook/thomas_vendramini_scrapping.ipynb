{
 "cells": [
  {
   "cell_type": "markdown",
   "metadata": {},
   "source": [
    "# Scrapping\n",
    "\n",
    "*Thomas VENDRAMINI*"
   ]
  },
  {
   "cell_type": "code",
   "execution_count": 85,
   "metadata": {},
   "outputs": [],
   "source": [
    "from requests_html import HTMLSession\n",
    "from bs4 import BeautifulSoup\n",
    "import pandas as pd\n",
    "\n",
    "\n",
    "def scrapper(mot):\n",
    "    session = HTMLSession()\n",
    "    response = session.get(\"https://dictionary.cambridge.org/fr/dictionnaire/anglais/\"+mot+\"\")\n",
    "    audio = response.content\n",
    "    soup = BeautifulSoup(audio,'html.parser')\n",
    "    finded = soup.findAll('div', {\"class\" : \"pos-header dpos-h\"})\n",
    "    path = 'https://dictionary.cambridge.org'\n",
    "    liste_langue = {'us', 'uk'}\n",
    "    df = pd.DataFrame(columns=['mot','langue','type','prononciation','url'])\n",
    "    for langue in liste_langue :\n",
    "        for audio in finded :\n",
    "            try :\n",
    "                mot = audio.find('div',{\"class\":\"di-title\"}).text\n",
    "                dtype = audio.find(\"div\",{\"class\":\"posgram dpos-g hdib lmr-5\"}).text\n",
    "                langue_recup = audio.find(\"span\",{\"class\":langue +\" dpron-i\"})\n",
    "                prononciation = audio.find(\"span\",{\"class\":\"pron dpron\"}).text          \n",
    "                url = path+langue_recup.find('source',{\"type\":\"audio/mpeg\"})['src']           \n",
    "                new_row = {'mot':mot, 'langue':langue,'type':dtype,'prononciation':prononciation,'url':url}\n",
    "                df = df.append(new_row, ignore_index=True)\n",
    "            except :\n",
    "                pass\n",
    "                #print('langue: {}'.format(langue))\n",
    "                #print('type : {}'.format(dtype))\n",
    "                #print('prononciation : {}'.format(prononciation))\n",
    "                #print('url : {}'.format(url))\n",
    "                #print(\"\")\n",
    "    df['type'] = df['type'].str.replace(' \\[ \\w \\]', '')\n",
    "    df = df.drop_duplicates(['langue'])\n",
    "    uk = pd.DataFrame(df.reset_index(drop= True).loc[0,['mot','type','prononciation', 'url']]).T\n",
    "    uk = uk.rename(columns={\"prononciation\":\"prononciation_uk\",\"url\":\"url_uk\"})\n",
    "    us = pd.DataFrame(df.reset_index(drop= True).loc[1,['mot','prononciation', 'url']]).T\n",
    "    us = us.rename(columns={\"prononciation\":\"prononciation_us\",\"url\":\"url_us\"})\n",
    "    df_retour = uk.merge(us, on='mot', suffixes=[None,None])\n",
    "    return df_retour"
   ]
  },
  {
   "cell_type": "code",
   "execution_count": 86,
   "metadata": {
    "scrolled": false
   },
   "outputs": [
    {
     "data": {
      "text/html": [
       "<div>\n",
       "<style scoped>\n",
       "    .dataframe tbody tr th:only-of-type {\n",
       "        vertical-align: middle;\n",
       "    }\n",
       "\n",
       "    .dataframe tbody tr th {\n",
       "        vertical-align: top;\n",
       "    }\n",
       "\n",
       "    .dataframe thead th {\n",
       "        text-align: right;\n",
       "    }\n",
       "</style>\n",
       "<table border=\"1\" class=\"dataframe\">\n",
       "  <thead>\n",
       "    <tr style=\"text-align: right;\">\n",
       "      <th></th>\n",
       "      <th>mot</th>\n",
       "      <th>type</th>\n",
       "      <th>prononciation_uk</th>\n",
       "      <th>url_uk</th>\n",
       "      <th>prononciation_us</th>\n",
       "      <th>url_us</th>\n",
       "    </tr>\n",
       "  </thead>\n",
       "  <tbody>\n",
       "    <tr>\n",
       "      <td>0</td>\n",
       "      <td>bed</td>\n",
       "      <td>noun</td>\n",
       "      <td>/bed/</td>\n",
       "      <td>https://dictionary.cambridge.org/fr/media/angl...</td>\n",
       "      <td>/bed/</td>\n",
       "      <td>https://dictionary.cambridge.org/fr/media/angl...</td>\n",
       "    </tr>\n",
       "  </tbody>\n",
       "</table>\n",
       "</div>"
      ],
      "text/plain": [
       "   mot  type prononciation_uk  \\\n",
       "0  bed  noun            /bed/   \n",
       "\n",
       "                                              url_uk prononciation_us  \\\n",
       "0  https://dictionary.cambridge.org/fr/media/angl...            /bed/   \n",
       "\n",
       "                                              url_us  \n",
       "0  https://dictionary.cambridge.org/fr/media/angl...  "
      ]
     },
     "execution_count": 86,
     "metadata": {},
     "output_type": "execute_result"
    }
   ],
   "source": [
    "scrapper(\"bed\")"
   ]
  }
 ],
 "metadata": {
  "kernelspec": {
   "display_name": "Python 3",
   "language": "python",
   "name": "python3"
  },
  "language_info": {
   "codemirror_mode": {
    "name": "ipython",
    "version": 3
   },
   "file_extension": ".py",
   "mimetype": "text/x-python",
   "name": "python",
   "nbconvert_exporter": "python",
   "pygments_lexer": "ipython3",
   "version": "3.7.4"
  }
 },
 "nbformat": 4,
 "nbformat_minor": 4
}
